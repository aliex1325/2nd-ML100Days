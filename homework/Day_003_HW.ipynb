{
 "cells": [
  {
   "cell_type": "markdown",
   "metadata": {},
   "source": [
    "Day_003-1_HW"
   ]
  },
  {
   "cell_type": "markdown",
   "metadata": {},
   "source": [
    "練習時間\n",
    "在小量的資料上，我們用眼睛就可以看得出來程式碼是否有跑出我們理想中的結果\n",
    "\n",
    "請嘗試想像一個你需要的資料結構 (裡面的值可以是隨機的)，然後用上述的方法把它變成 pandas DataFrame\n",
    "\n",
    "Ex: 想像一個 dataframe 有兩個欄位，一個是國家，一個是人口，求人口數最多的國家"
   ]
  },
  {
   "cell_type": "code",
   "execution_count": 1,
   "metadata": {},
   "outputs": [],
   "source": [
    "import pandas as pd\n",
    "import numpy as np"
   ]
  },
  {
   "cell_type": "code",
   "execution_count": 2,
   "metadata": {},
   "outputs": [],
   "source": [
    "data = {'Nation': ['Taiwan', 'France', 'America', 'England', 'Indian'],\n",
    "    'Population': [23012431, 99520465, 50004561, 99947500, 335036541],\n",
    "        }"
   ]
  },
  {
   "cell_type": "code",
   "execution_count": 3,
   "metadata": {},
   "outputs": [
    {
     "name": "stdout",
     "output_type": "stream",
     "text": [
      "    Nation  Population\n",
      "0   Taiwan    23012431\n",
      "1   France    99520465\n",
      "2  America    50004561\n",
      "3  England    99947500\n",
      "4   Indian   335036541\n"
     ]
    }
   ],
   "source": [
    "df = pd.DataFrame(data)\n",
    "print(df)"
   ]
  },
  {
   "cell_type": "code",
   "execution_count": 4,
   "metadata": {},
   "outputs": [
    {
     "data": {
      "text/plain": [
       "4"
      ]
     },
     "execution_count": 4,
     "metadata": {},
     "output_type": "execute_result"
    }
   ],
   "source": [
    "df['Population'].idxmax()"
   ]
  },
  {
   "cell_type": "markdown",
   "metadata": {},
   "source": [
    "Day_003-2_HW"
   ]
  },
  {
   "cell_type": "code",
   "execution_count": 5,
   "metadata": {},
   "outputs": [],
   "source": [
    "import requests\n",
    "response=requests.get('https://raw.githubusercontent.com/vashineyu/slides_and_others/master/tutorial/examples/imagenet_urls_examples.txt')"
   ]
  },
  {
   "cell_type": "code",
   "execution_count": 6,
   "metadata": {},
   "outputs": [
    {
     "name": "stdout",
     "output_type": "stream",
     "text": [
      "200\n"
     ]
    }
   ],
   "source": [
    "print(response.status_code)"
   ]
  },
  {
   "cell_type": "code",
   "execution_count": 7,
   "metadata": {},
   "outputs": [
    {
     "name": "stdout",
     "output_type": "stream",
     "text": [
      "784594\n"
     ]
    },
    {
     "data": {
      "text/plain": [
       "'n00015388_157\\thttp://farm1.static.flickr.com/145/430300483_21e993670c.jpg\\nn00015388_238\\thttp://farm2'"
      ]
     },
     "execution_count": 7,
     "metadata": {},
     "output_type": "execute_result"
    }
   ],
   "source": [
    "data = response.text\n",
    "\n",
    "# 用 request 傳送回來的資料不會認得斷行符號\n",
    "print(len(data))\n",
    "data[0:100]"
   ]
  },
  {
   "cell_type": "code",
   "execution_count": 8,
   "metadata": {},
   "outputs": [
    {
     "name": "stdout",
     "output_type": "stream",
     "text": [
      "46\n"
     ]
    },
    {
     "data": {
      "text/plain": [
       "'n00015388_157\\thttp://farm1.static.flickr.com/145/430300483_21e993670c.jpg\\nn00015388_238\\thttp://farm2.static.flickr.com/1005/3352960681_37b9c1d27b.jpg\\nn00015388_304\\thttp://farm1.static.flickr.com/27/51009336_a9663af3dd.jpg\\nn00015388_327\\thttp://farm4.static.flickr.com/3025/2444687979_bf7bc8df21.jpg\\nn00015388_355\\thttp://img100.imageshack.us/img100/3253/forrest004fs9.jpg\\nn00015388_373\\thttp://img172.imageshack.us/img172/4606/napo03072en9.jpg\\nn00015388_379\\thttp://fotootjesvanannelies.web-log.nl/olifantfotootjes/images/2008/06/04/img_8870.jpg\\nn00015388_388\\thttp://www.deweekkrant.nl/images/library/pictures/4f/2e/a5/cf/2_3d81b762a5e8a345bbb1f0884fab2e9762146129.jpg\\nn00015388_442\\thttp://www.porschemania.it/discus/messages/815/102099.jpg\\nn00015388_474\\thttp://farm1.static.flickr.com/72/225029238_805b0937ca.jpg\\nn00015388_514\\thttp://farm2.static.flickr.com/1128/1432436038_6c131f1bb0.jpg\\nn00015388_671\\thttp://farm4.static.flickr.com/3217/2942611930_d68204f726.jpg\\nn00015388_686\\thttp://farm1.static.flickr.com/29/54608382_ee8bd4f7fa.jpg\\nn00015388_706\\thttp://www.dierentuin.nl/images/jongengiraffe.jpg\\nn00015388_725\\thttp://farm4.static.flickr.com/3279/3118047175_259ab89c92.jpg\\nn00015388_758\\thttps://w3f7yg.bay.livefilestore.com/y1miLTQmcuoRakgVwM6_bngzVE6TzzugspJiu6zK1_8F_kAD0tLiNV6nRNu9gQjci3MNbubrk3M8pSQlHpG3a8NO88Qx4dvvuugxBvdzeYg1j4KQk45GZIrKYpqxRxRMhCWK3PxXknn61E/IMG_4991斑马.jpg\\nn00015388_841\\thttp://farm4.static.flickr.com/3271/2496428562_90b5cb82a6.jpg\\nn00015388_842\\thttp://farm2.static.flickr.com/1115/703274169_5ef9b9dfc9.jpg\\nn00015388_1087\\thttp://farm1.static.flickr.com/70/200362625_938f8f06a7.jpg\\nn00015388_1145\\thttp://farm1.static.flickr.com/180/370761991_7249dc2f90.jpg\\nn00015388_1184\\thttp://farm3.static.flickr.com/2197/1659368303_4dbf9b312a.jpg\\nn00015388_1191\\thttp://home.planet.nl/~huske073/Dieren/dier-sita.jpg\\nn00015388_1224\\thttp://www.joanranquet.com/images/AnimalNews-Lupinsm.jpg\\nn00015388_1457\\thttp://www.wereldomroep.nl/images/assets/10707839\\nn00015388_1476\\thttp://farm4.static.flickr.com/3231/2858342976_847bded41a.jpg\\nn00015388_1530\\thttp://farm3.static.flickr.com/2188/2086791140_e7dbd81b56.jpg\\nn00015388_1574\\thttp://farm2.static.flickr.com/1140/950904728_0d84ac956b.jpg\\nn00015388_1608\\thttp://www.dierenrijk.nl/uploads/media/620x248_Steenbok.jpg\\nn00015388_1640\\thttp://farm4.static.flickr.com/3107/2652244127_93ae00dbae.jpg\\nn00015388_1688\\thttp://fotootjesvanannelies.web-log.nl/olifantfotootjes/images/2008/06/05/img_6370_2.jpg\\nn00015388_1705\\thttp://www.hln.be/static/FOTO/pe/13/6/10/large_460060.jpg\\nn00015388_1832\\thttp://farm4.static.flickr.com/3075/2806156393_e26619e785.jpg\\nn00015388_1835\\thttp://www.vpg-amsterdam.nl/picts/Mens%20en%20dier%202.JPG\\nn00015388_1865\\thttp://farm4.static.flickr.com/3010/2495892362_91d36941fb.jpg\\nn00015388_1888\\thttp://farm1.static.flickr.com/94/282435162_0c7f117875.jpg\\nn00015388_1995\\thttp://farm2.static.flickr.com/1140/1233342395_d0792ed663.jpg\\nn00015388_1997\\thttp://figumorisca.files.wordpress.com/2008/05/gatta.jpg\\nn00015388_2003\\thttp://files.splinder.com/a0a27e29e96f5270d487740253d7e9ce.jpeg\\nn00015388_2004\\thttp://farm1.static.flickr.com/216/463144509_9905579fd0.jpg\\nn00015388_2110\\thttp://farm3.static.flickr.com/2008/2489907105_d8d2ab8622.jpg\\nn00015388_2122\\thttp://farm3.static.flickr.com/2300/2546060040_d2f00cef5c.jpg\\nn00015388_2246\\thttp://www.hb.xinhuanet.com/zhuanti/2008-02/26/xin_1430205261743765104509.jpg\\nn00015388_2263\\thttp://farm4.static.flickr.com/3045/2516183719_37f3366bbb.jpg\\nn00015388_2286\\thttp://www.photophoto.cn/m72/018/056/0180560156.jpg\\nn00015388_2423\\thttp://larrestodelcarlino.myblog.it/media/00/01/596222212.jpg\\nn00015388_2436\\thttp://www.digitalegroetjes.nl/kaartjes/images/67588held.jpg\\nn00015388_2506\\thttp://farm4.static.flickr.com/3590/3400746484_3dd2f91246.jpg\\nn00015388_2544\\thttp://media.zobrabant.nl:81/img/dyn/c1df79c81185d378ca5b284480961e46_200x131.jpg\\nn00015388_2594\\thttp://farm1.static.flickr.com/71/214363343_126928340e.jpg\\nn00015388_2605\\thttp://www.digi-irma.nl/fotos/dieren2/dier5.JPG\\nn00015388_2635\\thttp://farm2.static.flickr.com/1406/674804962_882dc24bee.jpg\\nn00015388_2669\\thttp://www.dongettyphoto.com/kenya/images/Reticulated-Giraffe.jpg\\nn00015388_2707\\thttp://www.controcorrentesatirica.com/fotoarticoli/agnello.jpg\\nn00015388_2712\\thttp://www.tvoggisalerno.it/Upload/Chicco.jpg\\nn00015388_2728\\thttp://farm3.static.flickr.com/2087/2113639488_81e8734c2c.jpg\\nn00015388_2795\\thttp://fotootjesvanannelies.web-log.nl/dierentuinfotootjes/images/img_1192_europa_aapjes.jpg\\nn00015388_2801\\thttp://farm3.static.flickr.com/2022/2074347390_2a923cc9d7.jpg\\nn00015388_2810\\thttp://www.corsaridelgusto.eu/wp/wp-content/uploads/2008/11/ochetta-tolosa.jpg\\nn00015388_2858\\thttp://www.ieenn.com/Article/UploadFiles_2400/200805/20080501081735415.jpg\\nn00015388_2890\\thttp://farm4.static.flickr.com/3053/3046324514_29570a809b.jpg\\nn00015388_2940\\thttp://farm4.static.flickr.com/3069/2677556348_6e1e9ab18f.jpg\\nn00015388_3026\\thttp://farm4.static.flickr.com/3186/2810074087_980989fdc5.jpg\\nn00015388_3044\\thttp://www.thennattravel.com/img/galeria/img-91.jpg\\nn00015388_3089\\thttp://farm1.static.flickr.com/166/341206445_9512acc0c7.jpg\\nn00015388_3131\\thttp://farm1.static.flickr.com/158/418755181_522ba0cdbc.jpg\\nn00015388_3163\\thttp://farm3.static.flickr.com/2270/2113683046_89ef507646.jpg\\nn00015388_3174\\thttp://farm4.static.flickr.com/3216/2825689280_2f4593504c.jpg\\nn00015388_3221\\thttp://farm4.static.flickr.com/3049/2912116913_5d97f34de9.jpg\\nn00015388_3236\\thttp://www.photophoto.cn/m1/018/001/0180010138.jpg\\nn00015388_3270\\thttp://1.bp.blogspot.com/_hGJfT5Lmrqw/SEQqhIGGncI/AAAAAAAAAN0/38KYHJBS01g/s200/castel_fusano.jpg\\nn00015388_3302\\thttp://farm1.static.flickr.com/210/514186356_490604ea82.jpg\\nn00015388_3350\\thttp://picnicb.ciao.com/it/90971.jpg\\nn00015388_3386\\thttp://3.bp.blogspot.com/_hGJfT5Lmrqw/Sbwo4mOW9NI/AAAAAAAAIEM/vsyCiut-YFM/s200/398-09.jpg\\nn00015388_3441\\thttp://farm3.static.flickr.com/2050/2393075706_20163202ef.jpg\\nn00015388_3480\\thttp://img.studenti.it/images/giovani/main/news/articoli/foto100/bernie300.jpg\\nn00015388_3489\\thttp://images0.speurders.nl/images/44/4493/44934560_1.jpg\\nn00015388_3508\\thttp://farm2.static.flickr.com/1012/1124643768_0b44643a28.jpg\\nn00015388_3531\\thttp://farm3.static.flickr.com/2374/2137148179_27c7c92bca.jpg\\nn00015388_3586\\thttp://farm4.static.flickr.com/3274/2496427358_2b1605f068.jpg\\nn00015388_3673\\thttp://3.bp.blogspot.com/_iI5p2weU2O0/RqmqNsFp7MI/AAAAAAAABJ0/lAt5EymrGfo/s400/nikon0001.JPG\\nn00015388_3680\\thttp://www.detexelsekunstenaars.nl/weblog/images/dsc_7883.jpg\\nn00015388_3684\\thttp://www.iohotspots.nl/fotos/904/3.jpg\\nn00015388_3770\\thttp://a.abcnews.com/images/Technology/rt_animal_friends_080701_ssh.jpg\\nn00015388_3787\\thttp://headlines.nos.nl/documents/1f/e1/1fe18053e0c981fefbdf3fec4cba54a4.small.jpg\\nn00015388_3827\\thttp://farm1.static.flickr.com/27/38433577_3bc8c72ea0.jpg\\nn00015388_3833\\thttp://homingpidgeon.blog.lastampa.it/il_mio_weblog/images/2009/02/14/koala_cured.jpg\\nn00015388_3871\\thttp://farm4.static.flickr.com/3087/2493456165_ecd9e6dcbf.jpg\\nn00015388_3916\\thttp://farm3.static.flickr.com/2310/2179327152_9fe4ff499b.jpg\\nn00015388_3970\\thttp://farm4.static.flickr.com/3534/3236276663_10af51d4da.jpg\\nn00015388_3984\\thttp://farm3.static.flickr.com/2025/1578466713_c30bc5190d.jpg\\nn00015388_4004\\thttp://www.theresevangelder.nl/dier8.jpg\\nn00015388_4019\\thttp://farm3.static.flickr.com/2341/2410518543_79040ec612.jpg\\nn00015388_4040\\thttp://farm1.static.flickr.com/41/99317628_57992c2bf4.jpg\\nn00015388_4044\\thttp://kazernediemen.web-log.nl/photos/uncategorized/2008/09/28/img_49141border.jpg\\nn00015388_4067\\thttp://www.photophoto.cn/m69/018/026/0180260450.jpg\\nn00015388_4122\\thttp://img1.pconline.com.cn/piclib/200804/29/batch/1/1873/1209483781462g460ayo0sr_medium.JPG\\nn00015388_4178\\thttp://farm3.static.flickr.com/2246/1862774644_be31884926.jpg\\nn00015388_4214\\thttp://www.worldofimages.nl/gallery/dieren/dier-frouke1.jpg\\nn00015388_4221\\thttp://estb.msn.com/i/B5/EF99C74EFE7B9DD2FBE2B57AB6B2D.jpg\\nn00015388_4261\\thttp://www.yile8.com/Article/UploadFiles/200703/20070326124456286.jpg\\nn00015388_4336\\thttp://www.photophoto.cn/m1/018/001/0180010158.jpg\\nn00015388_4347\\thttp://www.pugliantagonista.it/osservbalcanibr/fotosserv/cani.jpg\\nn00015388_4360\\thttp://www.venetocontroibocconi.it/public/news-images/foto1.jpg\\nn00015388_4379\\thttp://carlijn.homespot.nl/site_images/821_vera.jpg\\nn00015388_4465\\thttp://www.frankaslothouber.nl/wordpress/wp-content/2005-bosvarken.jpg\\nn00015388_4501\\thttp://www.kunsthal.nl/data/pictures/e_577.jpg\\nn00015388_4576\\thttp://fotootjesvanannelies.web-log.nl/photos/uncategorized/2008/08/06/img_2620.jpg\\nn00015388_4586\\thttp://farm3.static.flickr.com/2117/2494495340_76927b3dfd.jpg\\nn00015388_4613\\thttp://img167.imageshack.us/img167/3762/caneez8.jpg\\nn00015388_4634\\thttp://imgsrc.baidu.com/baike/pic/item/0e655ca755ae8086d1435895.jpg\\nn00015388_4638\\thttp://vip.bokee.com/shtml/php/upload/upload/200811131504040.jpg\\nn00015388_4642\\thttp://www.schooltv.nl/beeldbank/mmbase/images/1963827\\nn00015388_4705\\thttp://farm4.static.flickr.com/3193/2697455736_796480b8df.jpg\\nn00015388_4720\\thttp://www.studio-evenaar.nl/dierenpark/images/zwijn-wild01.jpg\\nn00015388_4739\\thttp://img.cxdq.com/081010/20081010185043499.jpg\\nn00015388_4742\\thttp://www.vaol.it/docs/files/190/75346.jpg\\nn00015388_4783\\thttp://cimg2.163.com/catchpic/9/96/9610C4E21D9248E70B3AAD0B821DF440.jpg\\nn00015388_4809\\thttp://farm1.static.flickr.com/37/96203655_37d98e39a9.jpg\\nn00015388_4915\\thttp://www.schooltv.nl/beeldbank/mmbase/images/1963828\\nn00015388_5006\\thttp://animals2tonny.web-log.nl/van_alles_en_nog_wat/images/2009/03/27/rihd.jpg\\nn00015388_5054\\thttp://img481.imageshack.us/img481/2083/immagine122ht3.jpg\\nn00015388_5065\\thttp://www.zana-artworld.nl/Gallery/images/mens%20dier6.jpg\\nn00015388_5110\\thttp://i278.photobucket.com/albums/kk112/annavernarelli/Masturbine.jpg\\nn00015388_5122\\thttp://bp3.blogger.com/_ujk9GTedwW8/R2dkBKfKfAI/AAAAAAAAFC4/GQlnXdRWOcg/s400/Dieren+miereneter+tamandua.jpg\\nn00015388_5123\\thttp://www.luisjaspe.nl/ILLUSjaspe/dier3.jpg\\nn00015388_5127\\thttp://files.splinder.com/c81ad9355c8ab1c1d9102c88f13d4350.jpeg\\nn00015388_5144\\thttp://farm1.static.flickr.com/151/434430724_d481865bfe.jpg\\nn00015388_5232\\thttp://farm4.static.flickr.com/3290/2747480855_9cf5201b4d.jpg\\nn00015388_5341\\thttp://huisdieren.hetdierenrijk.nl/honden/foto/katbijhond.jpg\\nn00015388_5350\\thttp://www.dierenrijk.nl/uploads/media/620x248_DRE_394.jpg\\nn00015388_5354\\thttp://2.bp.blogspot.com/_hGJfT5Lmrqw/SWjfeqpJS-I/AAAAAAAAGXk/ef4vLhJX2bA/s200/pedro-terni.jpg\\nn00015388_5358\\thttp://farm1.static.flickr.com/53/172510845_8f106f9003.jpg\\nn00015388_5422\\thttp://arumi.blog.kataweb.it/files/photos/uncategorized/2007/05/22/angeldog.jpg\\nn00015388_5443\\thttp://farm3.static.flickr.com/2412/2289080448_e7f981d160.jpg\\nn00015388_5446\\thttp://lh5.ggpht.com/piero.fadda/SD7LvUhRxFI/AAAAAAAAAM0/t6tfb5M1Cvg/03-%20Il%20nascondiglio_thumb%5B1%5D.jpg\\nn00015388_5464\\thttp://static.zoom.nl/C00CDF6958583A312CA16464AA894716-dierenrijk-europa.jpg\\nn00015388_5473\\thttp://3.bp.blogspot.com/_0BrcOm6q2_Q/SUvfMHmFCCI/AAAAAAAAAHw/3_eHQmqq920/S220/DSC_0017.JPG\\nn00015388_5512\\thttp://farm1.static.flickr.com/13/18183352_8c04916089.jpg\\nn00015388_5531\\thttp://www.aquariusage.com/images/artimages/Nieuwe_Kijk_op_dier_verminking1.jpg\\nn00015388_5559\\thttp://www.photophoto.cn/m72/018/056/0180560173.jpg\\nn00015388_5560\\thttp://farm3.static.flickr.com/2075/2047818257_699255cc24.jpg\\nn00015388_5601\\thttp://farm4.static.flickr.com/3101/2902842422_a04caed8b7.jpg\\nn00015388_5717\\thttp://farm4.static.flickr.com/3505/3199680207_9363042090.jpg\\nn00015388_5721\\thttp://www.photophoto.cn/m72/018/056/0180560148.jpg\\nn00015388_5743\\thttp://fotootjesvanannelies.web-log.nl/photos/uncategorized/2008/04/02/img_7917.jpg\\nn00015388_5768\\thttp://digilander.libero.it/non_siamo_cibo/LIFE.jpg\\nn00015388_5775\\thttp://farm4.static.flickr.com/3127/3158856669_8d40429a87.jpg\\nn00015388_5804\\thttp://www.aphroditehotel.gr/bird4.jpg\\nn00015388_5872\\thttp://nieuws.kontaktfm.nl/fotonieuws/2009-03-31-Dier%20van%20de%20week%20Stapper.jpg\\nn00015388_5895\\thttp://kepu.jjtang.com/upimg/071220/3_142053.jpg\\nn00015388_5913\\thttp://www.plaats.nl/var/24/thumb/24958.jpg\\nn00015388_6036\\thttp://www.photophoto.cn/m1/018/001/0180010156.jpg\\nn00015388_6049\\thttp://2.bp.blogspot.com/_MN6JRE8ev3Y/R-PdmGicdbI/AAAAAAAAAAM/Byw9fVQ6iCQ/s320/KIF_0316.JPG\\nn00015388_6062\\thttp://farm3.static.flickr.com/2075/2246415465_3a84a0a236.jpg\\nn00015388_6082\\thttp://estb.msn.com/i/16/E570EAF3AF44FE75423174618D.jpg\\nn00015388_6143\\thttp://farm1.static.flickr.com/37/87666009_0f1ffd3bbe.jpg\\nn00015388_6225\\thttp://www.aroundtheworld.net/reizen/afrika/wp-content/uploads/2007/08/dier-giraffe-2.jpg\\nn00015388_6306\\thttp://www.hbav.gov.cn/Article/UploadFiles/200804/20080429144002234.jpg\\nn00015388_6325\\thttp://www.helingnieuwestijl.nl/images/library/Image/200305%20MiauMiau%20de%20koningin%20web.jpg\\nn00015388_6423\\thttp://static.blogo.it/ecoblog/visone.jpg\\nn00015388_6443\\thttp://i1.ce.cn/sci/zrqq/200811/04/W020081104293568272650.jpg\\nn00015388_6446\\thttp://farm1.static.flickr.com/30/261069045_85462899b8.jpg\\nn00015388_6469\\thttp://www.schooltv.nl/beeldbank/mmbase/images/1963044\\nn00015388_6488\\thttp://www.dierenbescherminglimburg.be/images_temp/dier_week_maas.jpg\\nn00015388_6500\\thttp://www.gattisinasce.it/Public/data/gattamatta/20071223131338_gatto%20di%20natale.jpg\\nn00015388_6545\\thttp://www.retailwiki.nl/wiki02/images/thumb/160px-Rem_2007_dierenrijkeuropa_femkebeelen_52.JPG\\nn00015388_6563\\thttp://www.photophoto.cn/m72/018/056/0180560132.jpg\\nn00015388_6585\\thttp://myarticle.enet.com.cn/images/2006/0601/1149096161905.jpg\\nn00015388_6616\\thttp://www.keesvandervlist.nl/images/dier8.jpg\\nn00015388_6658\\thttp://www.photophoto.cn/m72/018/056/0180560168.jpg\\nn00015388_6679\\thttp://www.chinastone.cn/upload/ProductPic//m_wxq8_128768085739285995.jpg\\nn00015388_6685\\thttp://www.uitzinnig.nl/images/fotos/thumbnail/dierenrijk-europa.jpg\\nn00015388_6692\\thttp://2.bp.blogspot.com/_hGJfT5Lmrqw/STu4iBpAkNI/AAAAAAAAFc4/8kQ0iy7oo5o/s200/dragona.jpg\\nn00015388_6753\\thttp://media.athesiseditrice.it/media/2009/03/12_26_are_f1_525_medium.jpg\\nn00015388_6817\\thttp://farm1.static.flickr.com/96/224582938_10a09f5fe8.jpg\\nn00015388_6858\\thttp://www.sosanimali.net/claretta%20lor%20RM2.jpg\\nn00015388_6861\\thttp://jeugdnatuur.web-log.nl/jeugdnatuur/images/jonkie_galloway.jpg\\nn00015388_6918\\thttp://farm2.static.flickr.com/1090/1483571867_675318edb6.jpg\\nn00015388_6968\\thttp://farm1.static.flickr.com/177/485412124_2994b02ee2.jpg\\nn00015388_6981\\thttp://farm4.static.flickr.com/3044/2943562103_d91be872a7.jpg\\nn00015388_6983\\thttp://www.photophoto.cn/m1/018/001/0180010257.jpg\\nn00015388_7035\\thttp://www.studio-evenaar.nl/dierenpark/images/wolf-eur03.jpg\\nn00015388_7085\\thttp://quotidianonet.ilsole24ore.com/2008/07/03/101915/images/120198-cane.jpg\\nn00015388_7109\\thttp://farm1.static.flickr.com/53/111232614_a19ba3e1d4.jpg\\nn00015388_7144\\thttp://eraorablog.files.wordpress.com/2008/09/aussi-2-031.jpg\\nn00015388_7171\\thttp://www.dierenrijk.nl/uploads/media/620x248_Kathaai.jpg\\nn00015388_7175\\thttp://www.noorwegen.tv/albums/Eindelijk-Noorwegen!-Oneindig-mooi!/Wat_een_prachtig_dier.sized.jpg\\nn00015388_7246\\thttp://www.francinewesterduin.nl/images/dier.jpg\\nn00015388_7252\\thttp://www.zeeburgnieuws.nl/nieuws/images/varkentje_wakker_dier.jpg\\nn00015388_7273\\thttp://farm1.static.flickr.com/73/179835791_a638e58430.jpg\\nn00015388_7469\\thttp://farm3.static.flickr.com/2171/2418326931_2dcb809a04.jpg\\nn00015388_7501\\thttp://2.bp.blogspot.com/_hGJfT5Lmrqw/SYM0xe4fLjI/AAAAAAAAHG0/ggrDFubIJl8/s200/attila.jpg\\nn00015388_7646\\thttp://farm1.static.flickr.com/109/263172436_d776b8e01a.jpg\\nn00015388_7741\\thttp://www.dier-id.be/images/right/dier-id.jpg\\nn00015388_7815\\thttp://farm1.static.flickr.com/235/460317629_5adbb575f6.jpg\\nn00015388_7877\\thttp://farm4.static.flickr.com/3452/3387974451_9d481e3f61.jpg\\nn00015388_7885\\thttp://farm4.static.flickr.com/3308/3306977157_312e325399.jpg\\nn00015388_7970\\thttp://www.schooltv.nl/beeldbank/mmbase/images/2256781\\nn00015388_8014\\thttp://farm4.static.flickr.com/3092/3127529762_1568b5cafc.jpg\\nn00015388_8144\\thttp://farm4.static.flickr.com/3308/3314847346_b19b1a3feb.jpg\\nn00015388_8209\\thttp://farm3.static.flickr.com/2206/1543473818_bc997f2263.jpg\\nn00015388_8307\\thttp://www.bramvo.net/gallery2/d/1412-1/IMG_7008.JPG\\nn00015388_8319\\thttp://aoc03.qmark.nl/resources/t-dier-geit01-nederlandse%20witte%20melkgeit%20qmp.jpg\\nn00015388_8329\\thttp://media.athesiseditrice.it/media/2008/11/0811032403__71788_low.jpg\\nn00015388_8387\\thttp://www.huaxia-ng.com/web/attachments/2009/03/2_2009032514513735tiX.thumb.jpg\\nn00015388_8461\\thttp://farm4.static.flickr.com/3084/2330539072_c3f5def403.jpg\\nn00015388_8465\\thttp://www.venadelgesso.org/fauna/mammiferi/img/tasso.jpg\\nn00015388_8531\\thttp://aoc03.qmark.nl/resources/t-dier-varken01-groot%20york%20qmp.jpg\\nn00015388_8545\\thttp://1.bp.blogspot.com/_sNAgXc9jln0/ScPJv5Tw6oI/AAAAAAAAQkw/dMGL8ybIxaU/s400/denti.jpg\\nn00015388_8589\\thttp://4.bp.blogspot.com/_s2oZxc00q7g/ScqNZ-30QbI/AAAAAAAAARA/6vLwIOWyn8U/s400/vol2.JPG\\nn00015388_8701\\thttp://v16.56.com/images/8/8/shenshengfeihui56olo56i56.com_zhajm_1162006232_519.jpg\\nn00015388_8704\\thttp://farm4.static.flickr.com/3150/2329713399_cc46fdd4b6.jpg\\nn00015388_8707\\thttp://www.hln.be/static/FOTO/pe/16/0/3/art_large_380358.jpg\\nn00015388_8713\\thttp://farm1.static.flickr.com/193/527455832_93470a55cc.jpg\\nn00015388_8842\\thttp://idoimg.3mt.com.cn/article/upload/200703/070315113936780.jpg\\nn00015388_8883\\thttp://farm3.static.flickr.com/2104/1976214121_b6e7773ff0.jpg\\nn00015388_8898\\thttp://farm1.static.flickr.com/107/303421561_c0786f0c5d.jpg\\nn00015388_8932\\thttp://farm4.static.flickr.com/3028/2627064069_f3afbf9023.jpg\\nn00015388_8935\\thttp://farm3.static.flickr.com/2363/2458342603_fe94f6d9b1.jpg\\nn00015388_8940\\thttp://farm1.static.flickr.com/125/423038931_1c4eaf7bea.jpg\\nn00015388_8983\\thttp://farm4.static.flickr.com/3145/3041612186_2a25d4a5ea.jpg\\nn00015388_8995\\thttp://farm4.static.flickr.com/3125/3192103551_4bb0f476a8.jpg\\nn00015388_9066\\thttp://farm3.static.flickr.com/2326/2353615318_72b036173f.jpg\\nn00015388_9125\\thttp://farm1.static.flickr.com/161/397599643_b5a9e48cfa.jpg\\nn00015388_9139\\thttp://fotootjesvanannelies.web-log.nl/photos/uncategorized/2008/09/04/img_3201.jpg\\nn00015388_9147\\thttp://us.wtojob.cn/info/UploadFiles/2008918154549746.jpg\\nn00015388_9155\\thttp://farm4.static.flickr.com/3124/2725694322_4751a0eeb8.jpg\\nn00015388_9174\\thttp://www.sloddervossen.be/wp-content/uploads/2008/09/spekpoedel.jpg\\nn00015388_9240\\thttp://www.overloonzoo.nl/Image/getImage.aspx?id=529\\nn00015388_9294\\thttp://farm1.static.flickr.com/225/497865031_9ba72ce7f1.jpg\\nn00015388_9357\\thttp://www.zeeburgnieuws.nl/nieuws/images/wakker_dier_varkenstransport_ellende.jpg\\nn00015388_9365\\thttp://www.anwb.nl/images/lidmaatschap/syc/nl_Dierenrijk_Europa_visual.jpg\\nn00015388_9397\\thttp://farm4.static.flickr.com/3052/3060376614_d04ebbb175.jpg\\nn00015388_9399\\thttp://farm4.static.flickr.com/3283/2496418824_9755749ee8.jpg\\nn00015388_9400\\thttp://img1.pconline.com.cn/piclib/200804/29/batch/1/1873/12094837814629g8g1ygsfx_medium.JPG\\nn00015388_9405\\thttp://farm4.static.flickr.com/3140/2883350351_2be99bb512.jpg\\nn00015388_9419\\thttp://cimg2.163.com/cnews/2007/2/1/2007020109285072abf.jpg\\nn00015388_9421\\thttp://www.digi-irma.nl/fotos/dieren2/dier2.jpg\\nn00015388_9432\\thttp://farm3.static.flickr.com/2244/2530715412_a04f381c2b.jpg\\nn00015388_9438\\thttp://img366.imageshack.us/img366/4074/sanna06tm3.jpg\\nn00015388_9469\\thttp://farm4.static.flickr.com/3074/3118046001_c560f317b2.jpg\\nn00015388_9508\\thttp://farm4.static.flickr.com/3270/2401002856_a57a18e89f.jpg\\nn00015388_9515\\thttp://farm4.static.flickr.com/3219/2345281345_e42efd7259.jpg\\nn00015388_9534\\thttp://www.libemavakantieparken.nl/topics/libema/attractieparken/dierenrijk_europa/zeehond.jpg\\nn00015388_9559\\thttp://www.photophoto.cn/m1/018/001/0180010251.jpg\\nn00015388_9623\\thttp://farm4.static.flickr.com/3269/2892065253_213ceed90c.jpg\\nn00015388_9669\\thttp://farm1.static.flickr.com/29/36443540_f2da7d5a7b.jpg\\nn00015388_9727\\thttp://farm1.static.flickr.com/183/469389678_2b1c92f648.jpg\\nn00015388_9747\\thttp://fotootjesvanannelies.web-log.nl/photos/uncategorized/2009/03/04/img_1598.jpg\\nn00015388_9771\\thttp://farm1.static.flickr.com/142/408269243_c6b2bef28f.jpg\\nn00015388_9812\\thttp://www.bocconiavvelenati.it/tata-dead-close.jpg\\nn00015388_9851\\thttp://www.hannekegroenteman.nl/images/koe_van_karel.jpg\\nn00015388_9875\\thttp://source.hi.mysvw.com/picture/fangle/53/C8/67/7627//1174274945499.jpg\\nn00015388_9888\\thttp://farm4.static.flickr.com/3128/2824848637_ce693b264a.jpg\\nn00015388_9919\\thttp://farm4.static.flickr.com/3240/2901314720_bd74a653fd.jpg\\nn00015388_9969\\thttp://farm4.static.flickr.com/3234/2495608561_4164c99497.jpg\\nn00015388_9991\\thttp://farm4.static.flickr.com/3294/2687524440_2e205103e6.jpg\\nn00015388_10082\\thttp://farm4.static.flickr.com/3031/2787879806_64efd1ab55.jpg\\nn00015388_10113\\thttp://img111.imageshack.us/img111/7456/agnellomorto5qq1.jpg\\nn00015388_10181\\thttp://www.livingunderworld.org/photos/data/703/41DSC03752_klein.jpg\\nn00015388_10201\\thttp://static.flickr.com/3045/2981143898_fe3aef188e.jpg\\nn00015388_10238\\thttp://www.magic-air.nl/Foto/dier/dier_002.jpg\\nn00015388_10257\\thttp://farm1.static.flickr.com/242/447062768_08116fa379.jpg\\nn00015388_10315\\thttp://www.studio-evenaar.nl/dierenpark/images/wolf-eur01.jpg\\nn00015388_10386\\thttp://farm4.static.flickr.com/3235/2931736288_5e8500ba0e.jpg\\nn00015388_10397\\thttp://www.dierenrijk.nl/uploads/media/620x248_DRE_029.jpg\\nn00015388_10429\\thttp://farm4.static.flickr.com/3104/2661256044_55688849b9.jpg\\nn00015388_10437\\thttp://www.zootrack.nl/natuur26.jpg\\nn00015388_10512\\thttp://www.hellopet.com.cn/gongmu/xiaoshideshengming/miejuedongwu/sandieji/tue.jpg\\nn00015388_10554\\thttp://farm4.static.flickr.com/3659/3322499715_b22055194b.jpg\\nn00015388_10605\\thttp://img.diglog.com/img/2009/3/middle_caa2a0cceeca4e71a9aa3aadfca1c295.jpg\\nn00015388_10617\\thttp://news.xinhuanet.com/environment/2009-03/02/xinsrc_1920306021326750157837.jpg\\nn00015388_10737\\thttp://farm4.static.flickr.com/3087/2636927321_15df40eddc.jpg\\nn00015388_10748\\thttp://farm4.static.flickr.com/3140/3118050869_a403a1bdae.jpg\\nn00015388_10769\\thttp://farm3.static.flickr.com/2395/2571491910_4bbc73ae50.jpg\\nn00015388_10779\\thttp://farm4.static.flickr.com/3167/3076137996_e8ddccd1fc.jpg\\nn00015388_10782\\thttp://farm4.static.flickr.com/3038/2973708139_af66838c70.jpg\\nn00015388_10796\\thttp://farm4.static.flickr.com/3444/3288689765_0618a9eae3.jpg\\nn00015388_10805\\thttp://farm1.static.flickr.com/39/111514860_7b579826d5.jpg\\nn00015388_10885\\thttp://farm4.static.flickr.com/3001/2912657734_3b0f6a295d.jpg\\nn00015388_10890\\thttp://img386.imageshack.us/img386/3437/pecoreneve2zt5.jpg\\nn00015388_10900\\thttp://farm1.static.flickr.com/119/289658750_6e1a318ab7.jpg\\nn00015388_10914\\thttp://farm3.static.flickr.com/2167/2495070241_d7058b089d.jpg\\nn00015388_10920\\thttp://farm2.static.flickr.com/1363/1433747112_712f911aff.jpg\\nn00015388_11067\\thttp://farm1.static.flickr.com/101/303421557_574f4ef3fd.jpg\\nn00015388_11085\\thttp://photogallery.tiscali.it/repository/animali/panda/7.jpg\\nn00015388_11113\\thttp://farm4.static.flickr.com/3613/3381523150_0028fe0449.jpg\\nn00015388_11152\\thttp://farm2.static.flickr.com/1304/1393969672_be9a14bbb0.jpg\\nn00015388_11167\\thttp://farm4.static.flickr.com/3375/3212482537_c127ba374b.jpg\\nn00015388_11169\\thttp://farm4.static.flickr.com/3409/3412858374_04abd966ec.jpg\\nn00015388_11228\\thttp://www.cancelloedarnonenews.com/wp-content/uploads/2008/12/pastore-tedesco-abbandonato-alife-2.jpg\\nn00015388_11246\\thttp://farm4.static.flickr.com/3222/2857515931_d8051f508f.jpg\\nn00015388_11286\\thttp://www.flm-boot.nl/foto/natuur/IMG_0246.JPG\\nn00015388_11324\\thttp://img1.pconline.com.cn/piclib/200804/29/batch/1/1873/12094837814622fsr5t5awl_medium.JPG\\nn00015388_11389\\thttp://farm4.static.flickr.com/3088/3118026113_386c4e06ec.jpg\\nn00015388_11425\\thttp://farm3.static.flickr.com/2348/2532910592_b2e6451b03.jpg\\nn00015388_11454\\thttp://www.photophoto.cn/m2/018/020/0180200070.jpg\\nn00015388_11482\\thttp://farm4.static.flickr.com/3244/2940168348_9573c36d45.jpg\\nn00015388_11513\\thttp://farm4.static.flickr.com/3581/3349207351_e47c81c913.jpg\\nn00015388_11596\\thttp://farm1.static.flickr.com/31/57367664_b68d2d9e16.jpg\\nn00015388_11641\\thttp://farm4.static.flickr.com/3085/2661268674_48ea582ac2.jpg\\nn00015388_11694\\thttp://farm4.static.flickr.com/3220/2534595329_796177a740.jpg\\nn00015388_11732\\thttp://farm1.static.flickr.com/78/195970068_4f2e3a34bc.jpg\\nn00015388_11748\\thttp://farm1.static.flickr.com/105/290828248_7a86646a48.jpg\\nn00015388_11764\\thttp://farm4.static.flickr.com/3126/2820531308_f0eae05b6f.jpg\\nn00015388_11780\\thttp://farm2.static.flickr.com/1016/1398772391_2b11e9f5a7.jpg\\nn00015388_11840\\thttp://cougar.altervista.org/visual_aid/oscar_primopiano.jpg\\nn00015388_11854\\thttp://farm4.static.flickr.com/3125/2857520771_c60497fb9b.jpg\\nn00015388_11882\\thttp://pet.longhoo.net/dogs/images/00140711.jpg\\nn00015388_11885\\thttp://1.bp.blogspot.com/_-uv60n1TQKY/SM7AOxFxQeI/AAAAAAAAACw/bcH5aagvufw/S760/rey02.jpg\\nn00015388_11928\\thttp://www.dierennieuws.nl/dierentuinen/img/dre08.jpg\\nn00015388_12053\\thttp://farm1.static.flickr.com/37/87666208_3e81380c17.jpg\\nn00015388_12055\\thttp://farm1.static.flickr.com/3/3899701_f09c841205.jpg\\nn00015388_12067\\thttp://www.fotokonijnenberg.nl/images/uploads/3039/0db41/max_0db41.jpg\\nn00015388_12084\\thttp://magazine.libero.it/c/img52/fg/09/9273/2007/7/foto3.jpg\\nn00015388_12086\\thttp://farm2.static.flickr.com/1313/1359176876_6c25d2971d.jpg\\nn00015388_12128\\thttp://www.bongo.nl/image_cache/107267_100_100_FSImage_1_dierenrijk_09.jpg\\nn00015388_12170\\thttp://www.inseparabile.it/public/forum/Pastorella%20felice/2008626103731_PILI%203.jpg\\nn00015388_12175\\thttp://farm3.static.flickr.com/2386/2355350762_cea3e0545c.jpg\\nn00015388_12200\\thttp://farm4.static.flickr.com/3058/2576798216_401f08975d.jpg\\nn00015388_12244\\thttp://germylove.altervista.org/animalidasalvare_file/foca.jpg\\nn00015388_12248\\thttp://farm4.static.flickr.com/3014/3017434522_22acca70fc.jpg\\nn00015388_12250\\thttp://farm1.static.flickr.com/103/265904002_bcc3b8aac8.jpg\\nn00015388_12260\\thttp://farm4.static.flickr.com/3101/3118881564_836572d416.jpg\\nn00015388_12269\\thttp://www.caniquest.nl/Honden185.jpg\\nn00015388_12289\\thttp://farm2.static.flickr.com/1017/1125371210_a84f479178.jpg\\nn00015388_12371\\thttp://image.xtata.com/pic/pic/jpg/w0_h_0/9a/f7/1f/q100_wm1_2008_09_22_1222050760722948d703c8b1927.jpg\\nn00015388_12373\\thttp://www.partijvoordedieren.nl/upload/spaw/wakkerint3.gif\\nn00015388_12378\\thttp://farm1.static.flickr.com/111/303420108_c9be45a59d.jpg\\nn00015388_12385\\thttp://farm4.static.flickr.com/3167/2905761171_8a7579e985.jpg\\nn00015388_12410\\thttp://farm3.static.flickr.com/2009/2356443400_314ecea605.jpg\\nn00015388_12427\\thttp://roelsbeestenboel.nl/index_files/ponykind.jpg\\nn00015388_12440\\thttp://farm3.static.flickr.com/2111/2353384172_35722ab311.jpg\\nn00015388_12449\\thttp://farm4.static.flickr.com/3123/3237117862_20a30d4d3e.jpg\\nn00015388_12499\\thttp://evenementnieuws.nl/uploads/ec32fb14927ba04ac016da5da1d259a0.jpeg\\nn00015388_12526\\thttp://2.bp.blogspot.com/_bZx5ybMUFCY/SL8kN48xlcI/AAAAAAAAANU/Ru3MWkfLklY/s400/Cocco.JPG\\nn00015388_12537\\thttp://www.sciclinews.com/immagini_pagine/cane_fa_rientro_a_casa_sciclinews.jpg\\nn00015388_12538\\thttp://3.bp.blogspot.com/_7ok1Ppn7ohY/SPzjZ1JN4KI/AAAAAAAAAAc/VOzWTn5BbbM/s320/DSCF1853.JPG\\nn00015388_12572\\thttp://farm4.static.flickr.com/3304/3429204342_18a9a1e42f.jpg\\nn00015388_12577\\thttp://estb.msn.com/i/73/1CC32BDBBBB3AFAC9E8455F6BFC747.jpg\\nn00015388_12596\\thttp://farm4.static.flickr.com/3018/2753016680_b544e00b60.jpg\\nn00015388_12603\\thttp://img1.pconline.com.cn/piclib/200804/29/batch/1/1873/1209483781462ozmghhvppo_medium.JPG\\nn00015388_12676\\thttp://farm1.static.flickr.com/130/384161416_f92cc609c3.jpg\\nn00015388_12756\\thttp://www.chitblog.net/wp-content/uploads/2006/10/belfagor.jpg\\nn00015388_12776\\thttp://farm3.static.flickr.com/2250/2194547894_cbda347fb2.jpg\\nn00015388_12801\\thttp://farm4.static.flickr.com/3609/3430106314_1ae5664996.jpg\\nn00015388_12873\\thttp://www.eropuit.nl/images/625x467/dierenrijk_europa.jpg\\nn00015388_12876\\thttp://www.cnsece.com/Post/UploadFile/2007-5/2007520162118767.jpg\\nn00015388_12954\\thttp://mopshondenkennel.webs.com/ds%20056.jpg\\nn00015388_12956\\thttp://farm4.static.flickr.com/3620/3326837784_fd86220dbb.jpg\\nn00015388_12966\\thttp://www.photophoto.cn/m72/018/056/0180560098.jpg\\nn00015388_12977\\thttp://www.cdedu.gov.cn/subject/dasai3/zs/cz/0626/image/animal169.bmp\\nn00015388_12982\\thttp://www.photophoto.cn/m1/018/001/0180010111.jpg\\nn00015388_13004\\thttp://farm1.static.flickr.com/40/83515954_0c2d8f331b.jpg\\nn00015388_13050\\thttp://www.schooltv.nl/beeldbank/mmbase/images/1964055\\nn00015388_13055\\thttp://farm4.static.flickr.com/3286/3005398172_35af1f89b1.jpg\\nn00015388_13093\\thttp://farm1.static.flickr.com/60/224974598_e8d651777f.jpg\\nn00015388_13136\\thttp://farm2.static.flickr.com/1200/1185251984_f34d83b3a5.jpg\\nn00015388_13140\\thttp://www.wereldomroep.nl/images/assets/10707983\\nn00015388_13150\\thttp://www.hebly.gov.cn/uploadpic/2003-11/20031111175030-421-t018.jpg\\nn00015388_13156\\thttp://www.theaterfrascati.nl/assets/templates/frascati/img/img.php?-db=produktie.fp5&key=12593405&-img\\nn00015388_13158\\thttp://2.bp.blogspot.com/_Nb3Nwff99yo/R4ziYuLh_tI/AAAAAAAAACc/Y2-F6t7dRCg/s400/Firenze+III+134.jpg\\nn00015388_13168\\thttp://www.breda-en-alles-daaromheen.nl/over-dieren-in-de-literatuur_bestanden/image003.jpg\\nn00015388_13223\\thttp://farm1.static.flickr.com/46/109706745_10df63f51f.jpg\\nn00015388_13280\\thttp://img.bimg.126.net/photo/pxT86j9WHKUGqPEPwaGu4w==/2578592261647696868.jpg\\nn00015388_13289\\thttp://farm3.static.flickr.com/2053/2234796246_dd8913d925.jpg\\nn00015388_13328\\thttp://farm4.static.flickr.com/3223/3117170064_13e75c1aa2.jpg\\nn00015388_13332\\thttp://www.smink.it/wp-content/uploads/2008/09/porto-emp1.jpg\\nn00015388_13342\\thttp://farm1.static.flickr.com/106/313327271_e75c2a91cf.jpg\\nn00015388_13429\\thttp://www.sinaimg.cn/IT/ul/2007/0918/U1235P2DT20070918101708.jpg\\nn00015388_13430\\thttp://www.still-lifephotography.com/images/dier1.jpg\\nn00015388_13524\\thttp://vip.bokee.com/shtml/php/upload/upload/200811131512193.jpg\\nn00015388_13555\\thttp://3.bp.blogspot.com/_PsQbeQ9K4-s/SUVahoEd3eI/AAAAAAAAApo/Vdasd7Aee6A/s320/lpp1-726191.jpg\\nn00015388_13664\\thttp://www.mastino-napoletano.com/Fotos/Hunde/Antico_delle_correnti.jpg\\nn00015388_13671\\thttp://www.dagjeweg.nl/img/dagjeweg/2224.jpg\\nn00015388_13915\\thttp://farm4.static.flickr.com/3082/2730411162_d0d410d851.jpg\\nn00015388_13968\\thttp://fotoalbums.server8.eu/srv_1205416354/14/site/dier2.jpg\\nn00015388_13974\\thttp://farm3.static.flickr.com/2075/2214821830_efa446b642.jpg\\nn00015388_14083\\thttp://farm2.static.flickr.com/1120/529737397_fc8d279ae8.jpg\\nn00015388_14298\\thttp://www.thevelvetstore.com/Merchant2/graphics/00000001/dogs%20playing%20poker22.jpg\\nn00015388_14400\\thttp://farm1.static.flickr.com/33/51661052_741c9ae4f8.jpg\\nn00015388_14625\\thttp://img1.pconline.com.cn/piclib/200804/29/batch/1/1873/1209483781462k87z7fy5o1_medium.JPG\\nn00015388_14681\\thttp://fotootjesvanannelies.web-log.nl/photos/uncategorized/2009/03/04/img_1599.jpg\\nn00015388_14685\\thttp://www.superedo.it/cartoline/cartoline/Gatti/gatti039.jpg\\nn00015388_14686\\thttp://farm4.static.flickr.com/3004/2819735433_dbb7c5a6b3.jpg\\nn00015388_14761\\thttp://farm4.static.flickr.com/3151/2668916854_60b076247a.jpg\\nn00015388_14837\\thttp://www.sabinemiddelhaufeshundundnatur.net/immagini/ale/protezione/save/save%20start.jpg\\nn00015388_14869\\thttp://farm4.static.flickr.com/3272/2891857502_71b6f2bb44.jpg\\nn00015388_14915\\thttp://img138.imageshack.us/img138/9762/dscn1003cl7.jpg\\nn00015388_14981\\thttp://farm4.static.flickr.com/3103/3116408163_74120e8956.jpg\\nn00015388_14987\\thttp://farm4.static.flickr.com/3210/2878022175_1c5e11c51c.jpg\\nn00015388_15237\\thttp://www.digi-irma.nl/fotos/dieren/dier2.jpg\\nn00015388_15265\\thttp://fotootjesvanannelies.web-log.nl/photos/uncategorized/2008/02/27/img_1081.jpg\\nn00015388_15287\\thttp://www.ilmiogatto.net/images/Tommy.jpg\\nn00015388_15368\\thttp://www.rotterdamzoo.nl/import/assetmanager/2/5962/600/2ijsberen.png\\nn00015388_15376\\thttp://www.comune.roccasparvera.cn.it/immagini/VICKY.jpg\\nn00015388_15422\\thttp://farm4.static.flickr.com/3055/2900470297_58067312c8.jpg\\nn00015388_15557\\thttp://farm3.static.flickr.com/2364/2536762113_b176c34c79.jpg\\nn00015388_15642\\thttp://img1.pconline.com.cn/piclib/200804/29/batch/1/1873/12094837814623bp1hdp9zj_medium.JPG\\nn00015388_15674\\thttp://farm3.static.flickr.com/2240/2330539008_e1681cd3c0.jpg\\nn00015388_15754\\thttp://img111.imageshack.us/img111/7825/solieabbandonatitemperalt9.th.jpg\\nn00015388_15806\\thttp://tinypic.com/1g0g0h\\nn00015388_15865\\thttp://farm1.static.flickr.com/110/280930216_a0fb713dc2.jpg\\nn00015388_15909\\thttp://c-photo.i-part.com.tw/n1v1/2/6/5/5/1075562/photo/book30/122242322775.jpeg\\nn00015388_15948\\thttp://www.refdag.nl/media/foto/2007/39543-a.jpg\\nn00015388_16189\\thttp://www.peacelink.it/animali/images/3419_a6821a.jpg\\nn00015388_16264\\thttp://www.aroundtheworld.net/reizen/afrika/wp-content/uploads/2007/08/dier-giraffe-1.jpg\\nn00015388_16298\\thttp://farm3.static.flickr.com/2420/2536038141_f5a2cdb34b.jpg\\nn00015388_16335\\thttp://1.bp.blogspot.com/_0-lesZudEuw/R_4Zq6oR2pI/AAAAAAAAAGI/LOmA8q7tEms/S220/bacio_a_un_orso%5B1%5D.jpg\\nn00015388_16340\\thttp://media.panorama.it/media/foto/2009/03/02/49ac05633697b_hp.JPG\\nn00015388_16372\\thttp://www.viverearagogna.it/immagini/Animali18.jpg\\nn00015388_16411\\thttp://farm2.static.flickr.com/1198/1470629792_58def85885.jpg\\nn00015388_16450\\thttp://farm3.static.flickr.com/2362/1514282313_b282f616ae.jpg\\nn00015388_16487\\thttp://www.dierenrijk.nl/uploads/media/253x115_Ijsbeer.jpg\\nn00015388_16514\\thttp://farm1.static.flickr.com/183/375727067_d1a6c613c4.jpg\\nn00015388_16558\\thttp://farm4.static.flickr.com/3231/3116337579_ec943e2519.jpg\\nn00015388_16738\\thttp://files.splinder.com/eab12be517ef89b3c87f9cc9e0fc8284.jpeg\\nn00015388_16763\\thttp://www.porschemania.it/discus/messages/815/99326.jpg\\nn00015388_16810\\thttp://beestenboel.omikron-pi.com/animals_files/image004.jpg\\nn00015388_16849\\thttp://files.splinder.com/b8d36945cb0b46c337744862f08d3c0f.jpeg\\nn00015388_16886\\thttp://image.phototime.cn/image1/middle/5051/a0/C37234981.jpg\\nn00015388_16961\\thttp://farm4.static.flickr.com/3192/3045430135_1a9087162a.jpg\\nn00015388_16980\\thttp://farm3.static.flickr.com/2138/2117882359_7e0244d0a4.jpg\\nn00015388_17123\\thttp://4.bp.blogspot.com/_YVtQCk7G9rk/RnGEikceRoI/AAAAAAAAAYU/d5zA-mdxwlo/s400/koenshqip+004.jpg\\nn00015388_17292\\thttp://farm1.static.flickr.com/8/12445095_53022286c3.jpg\\nn00015388_17298\\thttp://farm4.static.flickr.com/3217/3118027885_5445a67ccf.jpg\\nn00015388_17499\\thttp://farm4.static.flickr.com/3020/2801188615_b9299b2031.jpg\\nn00015388_17598\\thttp://farm4.static.flickr.com/3042/2546264722_85698f7d93.jpg\\nn00015388_17680\\thttp://farm3.static.flickr.com/2105/2273690981_193a91f96e.jpg\\nn00015388_17712\\thttp://farm1.static.flickr.com/190/492643172_8191ea2d0e.jpg\\nn00015388_17745\\thttp://4.bp.blogspot.com/_-uv60n1TQKY/SOOBG5wvY-I/AAAAAAAAAD4/dk8CmDSdQHI/S760/Moka2008.JPG\\nn00015388_17785\\thttp://www.venetocontroibocconi.it/public/news-images/alberto.b.jpg\\nn00015388_17819\\thttp://farm3.static.flickr.com/2397/2160989023_b175924159.jpg\\nn00015388_17842\\thttp://www.venetocontroibocconi.it/public/news-images/più%20vicino.JPG\\nn00015388_17859\\thttp://ilprofessorechos.blogosfere.it/images/orsi_bianchi_2.jpg\\nn00015388_17881\\thttp://www.caryouyou.com/attachments/2007/04/224_200704270108201.jpg\\nn00015388_17925\\thttp://www.vakantierecreatie.nl/images/w51-15.jpg\\nn00015388_17994\\thttp://images4.wikia.nocookie.net/nonciclopedia/images/thumb/f/fa/Asino.jpg/250px-Asino.jpg\\nn00015388_18018\\thttp://www.schooltv.nl/beeldbank/mmbase/images/1962446\\nn00015388_18043\\thttp://farm3.static.flickr.com/2309/1763375062_dfdfd94495.jpg\\nn00015388_18069\\thttp://farm4.static.flickr.com/3194/2434486287_07dd013d9e.jpg\\nn00015388_18076\\thttp://www.tourpress.nl/materials/pers_images/060426_060426_dierenrijk_jachtluipaard.jpg\\nn00015388_18077\\thttp://farm2.static.flickr.com/1214/1452922991_1ced835c38.jpg\\nn00015388_18079\\thttp://farm4.static.flickr.com/3018/2435698305_507bf3b47e.jpg\\nn00015388_18080\\thttp://www.photophoto.cn/m1/018/001/0180010143.jpg\\nn00015388_18086\\thttp://farm4.static.flickr.com/3116/2697373695_d7d620ab9f.jpg\\nn00015388_18114\\thttp://www.dierz.nl/multimedia/dynamic/00171/maisslang_jpg_171212b.jpg\\nn00015388_18131\\thttp://farm3.static.flickr.com/2314/2537580720_ce54b6ef59.jpg\\nn00015388_18173\\thttp://farm3.static.flickr.com/2380/1688583480_e7916568fa.jpg\\nn00015388_18196\\thttp://images3.hiboox.com/images/0408/3ojiumld.jpg\\nn00015388_18205\\thttp://farm3.static.flickr.com/2037/2473132925_f0ee4c1a2b.jpg\\nn00015388_18249\\thttp://farm1.static.flickr.com/152/340800722_2e15809ce5.jpg\\nn00015388_18255\\thttp://sunshine-safari.com/pic/IMG_7207.JPG\\nn00015388_18258\\thttp://www.anemoon.org/anemoon/anemoon-forum/algemeen/585414964/837733707/761.jpg\\nn00015388_18284\\thttp://farm2.static.flickr.com/1439/760918416_6f18f79f86.jpg\\nn00015388_18318\\thttp://www.neerpelt-kaapstad.be/foto/botswana/22_Honey_badger'"
      ]
     },
     "execution_count": 8,
     "metadata": {},
     "output_type": "execute_result"
    }
   ],
   "source": [
    "split_tag=','\n",
    "data = data.split(split_tag)\n",
    "print(len(data))\n",
    "data[0]"
   ]
  },
  {
   "cell_type": "markdown",
   "metadata": {},
   "source": [
    "將 txt 轉成 pandas dataframe"
   ]
  },
  {
   "cell_type": "code",
   "execution_count": null,
   "metadata": {},
   "outputs": [],
   "source": [
    "import pandas as pd\n",
    "\n",
    "    \n",
    "df = pd.DataFrame(arrange_data)\n",
    "df.head()"
   ]
  }
 ],
 "metadata": {
  "kernelspec": {
   "display_name": "Python 3",
   "language": "python",
   "name": "python3"
  },
  "language_info": {
   "codemirror_mode": {
    "name": "ipython",
    "version": 3
   },
   "file_extension": ".py",
   "mimetype": "text/x-python",
   "name": "python",
   "nbconvert_exporter": "python",
   "pygments_lexer": "ipython3",
   "version": "3.7.1"
  }
 },
 "nbformat": 4,
 "nbformat_minor": 2
}
