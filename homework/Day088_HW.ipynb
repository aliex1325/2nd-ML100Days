{
 "cells": [
  {
   "cell_type": "markdown",
   "metadata": {},
   "source": [
    "## Work\n",
    "1. 請嘗試寫一個 callback 用來記錄各類別在訓練過程中，對驗證集的 True Positive 與 True Negative"
   ]
  },
  {
   "cell_type": "code",
   "execution_count": 1,
   "metadata": {},
   "outputs": [
    {
     "name": "stderr",
     "output_type": "stream",
     "text": [
      "Using TensorFlow backend.\n",
      "C:\\Users\\Sean\\Anaconda3\\envs\\tensorflow-gpu\\lib\\site-packages\\tensorflow\\python\\framework\\dtypes.py:516: FutureWarning: Passing (type, 1) or '1type' as a synonym of type is deprecated; in a future version of numpy, it will be understood as (type, (1,)) / '(1,)type'.\n",
      "  _np_qint8 = np.dtype([(\"qint8\", np.int8, 1)])\n",
      "C:\\Users\\Sean\\Anaconda3\\envs\\tensorflow-gpu\\lib\\site-packages\\tensorflow\\python\\framework\\dtypes.py:517: FutureWarning: Passing (type, 1) or '1type' as a synonym of type is deprecated; in a future version of numpy, it will be understood as (type, (1,)) / '(1,)type'.\n",
      "  _np_quint8 = np.dtype([(\"quint8\", np.uint8, 1)])\n",
      "C:\\Users\\Sean\\Anaconda3\\envs\\tensorflow-gpu\\lib\\site-packages\\tensorflow\\python\\framework\\dtypes.py:518: FutureWarning: Passing (type, 1) or '1type' as a synonym of type is deprecated; in a future version of numpy, it will be understood as (type, (1,)) / '(1,)type'.\n",
      "  _np_qint16 = np.dtype([(\"qint16\", np.int16, 1)])\n",
      "C:\\Users\\Sean\\Anaconda3\\envs\\tensorflow-gpu\\lib\\site-packages\\tensorflow\\python\\framework\\dtypes.py:519: FutureWarning: Passing (type, 1) or '1type' as a synonym of type is deprecated; in a future version of numpy, it will be understood as (type, (1,)) / '(1,)type'.\n",
      "  _np_quint16 = np.dtype([(\"quint16\", np.uint16, 1)])\n",
      "C:\\Users\\Sean\\Anaconda3\\envs\\tensorflow-gpu\\lib\\site-packages\\tensorflow\\python\\framework\\dtypes.py:520: FutureWarning: Passing (type, 1) or '1type' as a synonym of type is deprecated; in a future version of numpy, it will be understood as (type, (1,)) / '(1,)type'.\n",
      "  _np_qint32 = np.dtype([(\"qint32\", np.int32, 1)])\n",
      "C:\\Users\\Sean\\Anaconda3\\envs\\tensorflow-gpu\\lib\\site-packages\\tensorflow\\python\\framework\\dtypes.py:525: FutureWarning: Passing (type, 1) or '1type' as a synonym of type is deprecated; in a future version of numpy, it will be understood as (type, (1,)) / '(1,)type'.\n",
      "  np_resource = np.dtype([(\"resource\", np.ubyte, 1)])\n",
      "C:\\Users\\Sean\\Anaconda3\\envs\\tensorflow-gpu\\lib\\site-packages\\tensorboard\\compat\\tensorflow_stub\\dtypes.py:541: FutureWarning: Passing (type, 1) or '1type' as a synonym of type is deprecated; in a future version of numpy, it will be understood as (type, (1,)) / '(1,)type'.\n",
      "  _np_qint8 = np.dtype([(\"qint8\", np.int8, 1)])\n",
      "C:\\Users\\Sean\\Anaconda3\\envs\\tensorflow-gpu\\lib\\site-packages\\tensorboard\\compat\\tensorflow_stub\\dtypes.py:542: FutureWarning: Passing (type, 1) or '1type' as a synonym of type is deprecated; in a future version of numpy, it will be understood as (type, (1,)) / '(1,)type'.\n",
      "  _np_quint8 = np.dtype([(\"quint8\", np.uint8, 1)])\n",
      "C:\\Users\\Sean\\Anaconda3\\envs\\tensorflow-gpu\\lib\\site-packages\\tensorboard\\compat\\tensorflow_stub\\dtypes.py:543: FutureWarning: Passing (type, 1) or '1type' as a synonym of type is deprecated; in a future version of numpy, it will be understood as (type, (1,)) / '(1,)type'.\n",
      "  _np_qint16 = np.dtype([(\"qint16\", np.int16, 1)])\n",
      "C:\\Users\\Sean\\Anaconda3\\envs\\tensorflow-gpu\\lib\\site-packages\\tensorboard\\compat\\tensorflow_stub\\dtypes.py:544: FutureWarning: Passing (type, 1) or '1type' as a synonym of type is deprecated; in a future version of numpy, it will be understood as (type, (1,)) / '(1,)type'.\n",
      "  _np_quint16 = np.dtype([(\"quint16\", np.uint16, 1)])\n",
      "C:\\Users\\Sean\\Anaconda3\\envs\\tensorflow-gpu\\lib\\site-packages\\tensorboard\\compat\\tensorflow_stub\\dtypes.py:545: FutureWarning: Passing (type, 1) or '1type' as a synonym of type is deprecated; in a future version of numpy, it will be understood as (type, (1,)) / '(1,)type'.\n",
      "  _np_qint32 = np.dtype([(\"qint32\", np.int32, 1)])\n",
      "C:\\Users\\Sean\\Anaconda3\\envs\\tensorflow-gpu\\lib\\site-packages\\tensorboard\\compat\\tensorflow_stub\\dtypes.py:550: FutureWarning: Passing (type, 1) or '1type' as a synonym of type is deprecated; in a future version of numpy, it will be understood as (type, (1,)) / '(1,)type'.\n",
      "  np_resource = np.dtype([(\"resource\", np.ubyte, 1)])\n"
     ]
    }
   ],
   "source": [
    "import os\n",
    "import keras\n",
    "\n",
    "# Disable GPU\n",
    "os.environ[\"CUDA_VISIBLE_DEVICES\"] = \"0\""
   ]
  },
  {
   "cell_type": "code",
   "execution_count": 2,
   "metadata": {},
   "outputs": [],
   "source": [
    "train, test = keras.datasets.cifar10.load_data()"
   ]
  },
  {
   "cell_type": "code",
   "execution_count": 3,
   "metadata": {},
   "outputs": [],
   "source": [
    "## 資料前處理\n",
    "def preproc_x(x, flatten=True):\n",
    "    x = x / 255.\n",
    "    if flatten:\n",
    "        x = x.reshape((len(x), -1))\n",
    "    return x\n",
    "\n",
    "def preproc_y(y, num_classes=10):\n",
    "    if y.shape[-1] == 1:\n",
    "        y = keras.utils.to_categorical(y, num_classes)\n",
    "    return y    "
   ]
  },
  {
   "cell_type": "code",
   "execution_count": 4,
   "metadata": {},
   "outputs": [],
   "source": [
    "x_train, y_train = train\n",
    "x_test, y_test = test\n",
    "\n",
    "# Preproc the inputs\n",
    "x_train = preproc_x(x_train)\n",
    "x_test = preproc_x(x_test)\n",
    "\n",
    "# Preprc the outputs\n",
    "y_train = preproc_y(y_train)\n",
    "y_test = preproc_y(y_test)"
   ]
  },
  {
   "cell_type": "code",
   "execution_count": 5,
   "metadata": {},
   "outputs": [],
   "source": [
    "from keras.layers import BatchNormalization\n",
    "def build_mlp(input_shape, output_units=10, num_neurons=[256, 256, 256]):\n",
    "    \"\"\"Code Here\n",
    "    建立你的神經網路\n",
    "    \"\"\"\n",
    "    input_layer = keras.layers.Input(input_shape)\n",
    "    \n",
    "    for i, n_units in enumerate(num_neurons):\n",
    "        if i == 0:\n",
    "            x = keras.layers.Dense(units=n_units, \n",
    "                                   activation=\"relu\", \n",
    "                                   name=\"hidden_layer\"+str(i+1))(input_layer)\n",
    "            x = BatchNormalization()(x)\n",
    "        else:\n",
    "            x = keras.layers.Dense(units=n_units, \n",
    "                                   activation=\"relu\", \n",
    "                                   name=\"hidden_layer\"+str(i+1))(x)\n",
    "            x = BatchNormalization()(x)\n",
    "    \n",
    "    out = keras.layers.Dense(units=output_units, activation=\"softmax\", name=\"output\")(x)\n",
    "    \n",
    "    model = keras.models.Model(inputs=[input_layer], outputs=[out])\n",
    "    return model"
   ]
  },
  {
   "cell_type": "code",
   "execution_count": 6,
   "metadata": {},
   "outputs": [],
   "source": [
    "\n",
    "## 超參數設定\n",
    "LEARNING_RATE = 1e-3\n",
    "EPOCHS = 25\n",
    "BATCH_SIZE = 1024\n",
    "MOMENTUM = 0.95"
   ]
  },
  {
   "cell_type": "code",
   "execution_count": 7,
   "metadata": {},
   "outputs": [],
   "source": [
    "# 載入 Callbacks\n",
    "from keras.callbacks import Callback\n",
    "import numpy as np\n",
    "\n",
    "# Record_fp_tp\n",
    "class Record_tp_tn(Callback):\n",
    "    \"\"\"Code Here\n",
    "    撰寫一個紀錄 ture positive 與 true negative 數量的 callbacks    \n",
    "    \"\"\"\n",
    "    def on_train_begin(self, epoch, logs = {}):\n",
    "        logs = logs or {}\n",
    "        record_items = [\"val_auc\", \"true_positives\", \"true_negatives\", \"val_fp\", \"val_fn\", \"val_tp\", \"val_tn\"]\n",
    "        for i in record_items:\n",
    "            if i not in self.params['metrics']:\n",
    "                self.params['metrics'].append(i)\n",
    "    def on_epoch_end(self, epoch, logs = {}, thres=0.5):\n",
    "        logs = logs or {}\n",
    "        y_true = self.validation_data[1].argmax(axis = 1)\n",
    "        y_pred = self.model.predict(self.validation_data[0])\n",
    "        y_pred = (y_pred[:, 1] >= thres) * 1\n",
    "        true_positives = np.sum(np.logical_and(y_pred == 1, y_true == 1))\n",
    "        true_negatives = np.sum(np.logical_and(y_pred == 0, y_true == 0))\n",
    "        logs[\"true_positives\"] = true_positives\n",
    "        logs[\"true_negatives\"] = true_negatives\n",
    "        \n",
    "rec_tptn = Record_tp_tn()"
   ]
  },
  {
   "cell_type": "code",
   "execution_count": 8,
   "metadata": {
    "scrolled": true
   },
   "outputs": [
    {
     "name": "stdout",
     "output_type": "stream",
     "text": [
      "Model: \"model_1\"\n",
      "_________________________________________________________________\n",
      "Layer (type)                 Output Shape              Param #   \n",
      "=================================================================\n",
      "input_1 (InputLayer)         (None, 3072)              0         \n",
      "_________________________________________________________________\n",
      "hidden_layer1 (Dense)        (None, 256)               786688    \n",
      "_________________________________________________________________\n",
      "batch_normalization_1 (Batch (None, 256)               1024      \n",
      "_________________________________________________________________\n",
      "hidden_layer2 (Dense)        (None, 256)               65792     \n",
      "_________________________________________________________________\n",
      "batch_normalization_2 (Batch (None, 256)               1024      \n",
      "_________________________________________________________________\n",
      "hidden_layer3 (Dense)        (None, 256)               65792     \n",
      "_________________________________________________________________\n",
      "batch_normalization_3 (Batch (None, 256)               1024      \n",
      "_________________________________________________________________\n",
      "output (Dense)               (None, 10)                2570      \n",
      "=================================================================\n",
      "Total params: 923,914\n",
      "Trainable params: 922,378\n",
      "Non-trainable params: 1,536\n",
      "_________________________________________________________________\n",
      "WARNING:tensorflow:From C:\\Users\\Sean\\Anaconda3\\envs\\tensorflow-gpu\\lib\\site-packages\\keras\\backend\\tensorflow_backend.py:422: The name tf.global_variables is deprecated. Please use tf.compat.v1.global_variables instead.\n",
      "\n",
      "Train on 50000 samples, validate on 10000 samples\n",
      "Epoch 1/25\n",
      "50000/50000 [==============================] - 3s 55us/step - loss: 2.2379 - accuracy: 0.2573 - val_loss: 2.1188 - val_accuracy: 0.2604\n",
      "Epoch 2/25\n",
      "50000/50000 [==============================] - 2s 45us/step - loss: 1.7786 - accuracy: 0.3798 - val_loss: 1.9718 - val_accuracy: 0.3329\n",
      "Epoch 3/25\n",
      "50000/50000 [==============================] - 2s 46us/step - loss: 1.6459 - accuracy: 0.4220 - val_loss: 1.8392 - val_accuracy: 0.3692\n",
      "Epoch 4/25\n",
      "50000/50000 [==============================] - 2s 45us/step - loss: 1.5666 - accuracy: 0.4480 - val_loss: 1.7246 - val_accuracy: 0.4013\n",
      "Epoch 5/25\n",
      "50000/50000 [==============================] - 2s 45us/step - loss: 1.5096 - accuracy: 0.4684 - val_loss: 1.6463 - val_accuracy: 0.4297\n",
      "Epoch 6/25\n",
      "50000/50000 [==============================] - 2s 46us/step - loss: 1.4631 - accuracy: 0.4846 - val_loss: 1.5880 - val_accuracy: 0.4407\n",
      "Epoch 7/25\n",
      "50000/50000 [==============================] - 2s 45us/step - loss: 1.4261 - accuracy: 0.4986 - val_loss: 1.5476 - val_accuracy: 0.4516\n",
      "Epoch 8/25\n",
      "50000/50000 [==============================] - 2s 44us/step - loss: 1.3909 - accuracy: 0.5136 - val_loss: 1.5418 - val_accuracy: 0.4562\n",
      "Epoch 9/25\n",
      "50000/50000 [==============================] - 2s 48us/step - loss: 1.3617 - accuracy: 0.5249 - val_loss: 1.5175 - val_accuracy: 0.4630\n",
      "Epoch 10/25\n",
      "50000/50000 [==============================] - 2s 46us/step - loss: 1.3358 - accuracy: 0.5321 - val_loss: 1.5119 - val_accuracy: 0.4648\n",
      "Epoch 11/25\n",
      "50000/50000 [==============================] - 2s 46us/step - loss: 1.3097 - accuracy: 0.5437 - val_loss: 1.5047 - val_accuracy: 0.4702\n",
      "Epoch 12/25\n",
      "50000/50000 [==============================] - 2s 45us/step - loss: 1.2859 - accuracy: 0.5529 - val_loss: 1.4932 - val_accuracy: 0.4717\n",
      "Epoch 13/25\n",
      "50000/50000 [==============================] - 2s 45us/step - loss: 1.2611 - accuracy: 0.5645 - val_loss: 1.4863 - val_accuracy: 0.4772\n",
      "Epoch 14/25\n",
      "50000/50000 [==============================] - 2s 44us/step - loss: 1.2407 - accuracy: 0.5697 - val_loss: 1.4851 - val_accuracy: 0.4796\n",
      "Epoch 15/25\n",
      "50000/50000 [==============================] - 2s 44us/step - loss: 1.2177 - accuracy: 0.5792 - val_loss: 1.4717 - val_accuracy: 0.4828\n",
      "Epoch 16/25\n",
      "50000/50000 [==============================] - 2s 48us/step - loss: 1.1969 - accuracy: 0.5848 - val_loss: 1.4722 - val_accuracy: 0.4826\n",
      "Epoch 17/25\n",
      "50000/50000 [==============================] - 2s 45us/step - loss: 1.1778 - accuracy: 0.5935 - val_loss: 1.4713 - val_accuracy: 0.4883\n",
      "Epoch 18/25\n",
      "50000/50000 [==============================] - 2s 44us/step - loss: 1.1593 - accuracy: 0.6004 - val_loss: 1.4701 - val_accuracy: 0.4818\n",
      "Epoch 19/25\n",
      "50000/50000 [==============================] - 2s 44us/step - loss: 1.1404 - accuracy: 0.6094 - val_loss: 1.4616 - val_accuracy: 0.4916\n",
      "Epoch 20/25\n",
      "50000/50000 [==============================] - 2s 45us/step - loss: 1.1213 - accuracy: 0.6148 - val_loss: 1.4614 - val_accuracy: 0.4899\n",
      "Epoch 21/25\n",
      "50000/50000 [==============================] - 2s 45us/step - loss: 1.1038 - accuracy: 0.6212 - val_loss: 1.4624 - val_accuracy: 0.4900\n",
      "Epoch 22/25\n",
      "50000/50000 [==============================] - 2s 44us/step - loss: 1.0867 - accuracy: 0.6278 - val_loss: 1.4672 - val_accuracy: 0.4895\n",
      "Epoch 23/25\n",
      "50000/50000 [==============================] - 2s 44us/step - loss: 1.0691 - accuracy: 0.6340 - val_loss: 1.4545 - val_accuracy: 0.4947\n",
      "Epoch 24/25\n",
      "50000/50000 [==============================] - 2s 44us/step - loss: 1.0522 - accuracy: 0.6410 - val_loss: 1.4592 - val_accuracy: 0.4945\n",
      "Epoch 25/25\n",
      "50000/50000 [==============================] - 2s 44us/step - loss: 1.0333 - accuracy: 0.6488 - val_loss: 1.4695 - val_accuracy: 0.4901\n"
     ]
    }
   ],
   "source": [
    "model = build_mlp(input_shape=x_train.shape[1:])\n",
    "model.summary()\n",
    "optimizer = keras.optimizers.SGD(lr=LEARNING_RATE, nesterov=True, momentum=MOMENTUM)\n",
    "model.compile(loss=\"categorical_crossentropy\", metrics=[\"accuracy\"], optimizer=optimizer)\n",
    "\n",
    "\"\"\"Code Here\n",
    "將 callbacks 放入模型訓練流程中\n",
    "\"\"\"\n",
    "model.fit(x_train, y_train, \n",
    "          epochs=EPOCHS, \n",
    "          batch_size=BATCH_SIZE, \n",
    "          validation_data=(x_test, y_test), \n",
    "          shuffle=True,\n",
    "          callbacks=[rec_tptn]\n",
    "         )\n",
    "\n",
    "# Collect results\n",
    "train_loss = model.history.history[\"loss\"]\n",
    "valid_loss = model.history.history[\"val_loss\"]\n",
    "train_acc = model.history.history[\"accuracy\"]\n",
    "valid_acc = model.history.history[\"val_accuracy\"]\n",
    "\n",
    "\"\"\"Code Here\n",
    "將 tp/tn 從訓練完的模型中取出\n",
    "\"\"\"\n",
    "valid_tp = model.history.history['true_positives']\n",
    "valid_tn = model.history.history['true_negatives']"
   ]
  },
  {
   "cell_type": "code",
   "execution_count": 9,
   "metadata": {},
   "outputs": [
    {
     "data": {
      "image/png": "[encoded data removed]",
      "text/plain": [
       "<Figure size 432x288 with 1 Axes>"
      ]
     },
     "metadata": {
      "needs_background": "light"
     },
     "output_type": "display_data"
    },
    {
     "data": {
      "image/png": "[encoded data removed]",
      "text/plain": [
       "<Figure size 432x288 with 1 Axes>"
      ]
     },
     "metadata": {
      "needs_background": "light"
     },
     "output_type": "display_data"
    },
    {
     "data": {
      "image/png": "[encoded data removed]",
      "text/plain": [
       "<Figure size 432x288 with 1 Axes>"
      ]
     },
     "metadata": {
      "needs_background": "light"
     },
     "output_type": "display_data"
    }
   ],
   "source": [
    "import matplotlib.pyplot as plt\n",
    "%matplotlib inline\n",
    "\n",
    "plt.plot(range(len(train_loss)), train_loss, label=\"train loss\")\n",
    "plt.plot(range(len(valid_loss)), valid_loss, label=\"valid loss\")\n",
    "plt.legend()\n",
    "plt.title(\"Loss\")\n",
    "plt.show()\n",
    "\n",
    "plt.plot(range(len(train_acc)), train_acc, label=\"train accuracy\")\n",
    "plt.plot(range(len(valid_acc)), valid_acc, label=\"valid accuracy\")\n",
    "plt.legend()\n",
    "plt.title(\"Accuracy\")\n",
    "plt.show()\n",
    "\n",
    "plt.plot(range(len(valid_tp)), valid_tp, label=\"valid tp\", color=\"navy\")\n",
    "plt.plot(range(len(valid_tn)), valid_tn, label=\"valid tn\", color=\"red\")\n",
    "plt.legend()\n",
    "plt.title(\"True positives and True Negatives\")\n",
    "plt.show()\n"
   ]
  },
  {
   "cell_type": "code",
   "execution_count": null,
   "metadata": {},
   "outputs": [],
   "source": []
  }
 ],
 "metadata": {
  "kernelspec": {
   "display_name": "Python 3",
   "language": "python",
   "name": "python3"
  },
  "language_info": {
   "codemirror_mode": {
    "name": "ipython",
    "version": 3
   },
   "file_extension": ".py",
   "mimetype": "text/x-python",
   "name": "python",
   "nbconvert_exporter": "python",
   "pygments_lexer": "ipython3",
   "version": "3.5.6"
  }
 },
 "nbformat": 4,
 "nbformat_minor": 2
}
