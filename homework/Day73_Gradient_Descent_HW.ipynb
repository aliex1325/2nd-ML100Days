{
 "cells": [
  {
   "cell_type": "markdown",
   "metadata": {},
   "source": [
    "# 作業重點\n",
    "\n",
    "使用function y=(x+5)² 來練習學習率( leanrning rate ) 調整所造成的影響"
   ]
  },
  {
   "cell_type": "markdown",
   "metadata": {},
   "source": [
    "# 作業目標:\n",
    "    請嘗試使用不同的組合驗證 learning rate 對所需 iteration 的影響\n",
    "    lr = [0.1, 0.0001]\n",
    "    主要驗證 Lr 對於grandient 收斂的速度\n",
    "    "
   ]
  },
  {
   "cell_type": "code",
   "execution_count": 1,
   "metadata": {},
   "outputs": [
    {
     "name": "stdout",
     "output_type": "stream",
     "text": [
      "---------------------------------------------------------\n",
      "The learning rate is 0.1\n",
      "Totally iteations:  66\n",
      "The local minimum occurs at -4.999996786123911\n",
      "---------------------------------------------------------\n",
      "---------------------------------------------------------\n",
      "The learning rate is 0.0001\n",
      "Totally iteations:  10000\n",
      "The local minimum occurs at -3.917534277778167\n",
      "---------------------------------------------------------\n"
     ]
    }
   ],
   "source": [
    "df = lambda x: 2*(x+5) #Gradient of our function \n",
    "precision = 0.000001 #This tells us when to stop the algorithm\n",
    "max_iters = 10000 # maximum number of iterations\n",
    "lr_list = [0.1, 0.0001]\n",
    "iters_history = []\n",
    "x_history = []\n",
    "\n",
    "for arr, lr in enumerate(lr_list):\n",
    "    print('---------------------------------------------------------')\n",
    "    print(f'The learning rate is {lr}')\n",
    "    iters = 0\n",
    "    cur_x = 3 # The algorithm starts at x=3\n",
    "    previous_step_size = 1\n",
    "    \n",
    "    iters_history.append([])\n",
    "    x_history.append([])\n",
    "    \n",
    "    while previous_step_size > precision and iters < max_iters:\n",
    "        iters_history[arr].append(iters)\n",
    "        x_history[arr].append(cur_x)\n",
    "        \n",
    "        prev_x = cur_x #Store current x value in prev_x\n",
    "        cur_x = cur_x - lr * df(prev_x) #Gradient descent\n",
    "        previous_step_size = abs(cur_x - prev_x) # 取較大的值, Change in x\n",
    "        iters = iters + 1 #iteration count\n",
    "       \n",
    "    print(\"Totally iteations: \", iters)\n",
    "    print(\"The local minimum occurs at\", cur_x)\n",
    "    print('---------------------------------------------------------')"
   ]
  },
  {
   "cell_type": "code",
   "execution_count": 2,
   "metadata": {
    "scrolled": false
   },
   "outputs": [
    {
     "data": {
      "image/png": "[encoded data removed]",
      "text/plain": [
       "<Figure size 432x288 with 1 Axes>"
      ]
     },
     "metadata": {
      "needs_background": "light"
     },
     "output_type": "display_data"
    }
   ],
   "source": [
    "import matplotlib.pyplot as plt\n",
    "%matplotlib inline \n",
    "#適用於 Jupyter Notebook, 宣告直接在cell 內印出執行結果\n",
    "\n",
    "plt.title('Learn rate 0.1')\n",
    "plt.plot(iters_history[0], x_history[0], 'o-', ms=3, lw=1.5, color='black')\n",
    "plt.xlabel(r'$iters$', fontsize=16)\n",
    "plt.ylabel(r'$x$', fontsize=16)\n",
    "plt.show()"
   ]
  },
  {
   "cell_type": "code",
   "execution_count": 3,
   "metadata": {},
   "outputs": [
    {
     "data": {
      "image/png": "[encoded data removed]",
      "text/plain": [
       "<Figure size 432x288 with 1 Axes>"
      ]
     },
     "metadata": {
      "needs_background": "light"
     },
     "output_type": "display_data"
    }
   ],
   "source": [
    "plt.title('Learn rate 0.0001')\n",
    "plt.plot(iters_history[1], x_history[1], 'o-', ms=3, lw=1.5, color='black')\n",
    "plt.xlabel(r'$iters$', fontsize=16)\n",
    "plt.ylabel(r'$x$', fontsize=16)\n",
    "plt.show()"
   ]
  },
  {
   "cell_type": "code",
   "execution_count": null,
   "metadata": {},
   "outputs": [],
   "source": []
  }
 ],
 "metadata": {
  "kernelspec": {
   "display_name": "Python 3",
   "language": "python",
   "name": "python3"
  },
  "language_info": {
   "codemirror_mode": {
    "name": "ipython",
    "version": 3
   },
   "file_extension": ".py",
   "mimetype": "text/x-python",
   "name": "python",
   "nbconvert_exporter": "python",
   "pygments_lexer": "ipython3",
   "version": "3.7.1"
  }
 },
 "nbformat": 4,
 "nbformat_minor": 2
}
