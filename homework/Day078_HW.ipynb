{
 "cells": [
  {
   "cell_type": "markdown",
   "metadata": {},
   "source": [
    "## Work\n",
    "1. 請嘗試將 preproc_x 替換成以每筆資料的 min/max 進行標準化至 -1 ~ 1 間，再進行訓練\n",
    "2. 請嘗試將 mlp 疊更深 (e.g 5~10 層)，進行訓練後觀察 learning curve 的走勢\n",
    "3. (optional) 請改用 GPU 進行訓練 (如果你有 GPU 的話)，比較使用 CPU 與 GPU 的訓練速度"
   ]
  },
  {
   "cell_type": "code",
   "execution_count": 11,
   "metadata": {},
   "outputs": [
    {
     "name": "stderr",
     "output_type": "stream",
     "text": [
      "'nvidia-smi' 不是內部或外部命令、可執行的程式或批次檔。\n"
     ]
    }
   ],
   "source": [
    "## \n",
    "\"\"\"\n",
    "Your code here (optional)\n",
    "確認硬體資源\n",
    "\"\"\"\n",
    "!nvidia-smi"
   ]
  },
  {
   "cell_type": "code",
   "execution_count": 1,
   "metadata": {},
   "outputs": [
    {
     "name": "stderr",
     "output_type": "stream",
     "text": [
      "Using TensorFlow backend.\n",
      "C:\\Users\\Sean\\Anaconda3\\envs\\tensorflow-gpu\\lib\\site-packages\\tensorflow\\python\\framework\\dtypes.py:516: FutureWarning: Passing (type, 1) or '1type' as a synonym of type is deprecated; in a future version of numpy, it will be understood as (type, (1,)) / '(1,)type'.\n",
      "  _np_qint8 = np.dtype([(\"qint8\", np.int8, 1)])\n",
      "C:\\Users\\Sean\\Anaconda3\\envs\\tensorflow-gpu\\lib\\site-packages\\tensorflow\\python\\framework\\dtypes.py:517: FutureWarning: Passing (type, 1) or '1type' as a synonym of type is deprecated; in a future version of numpy, it will be understood as (type, (1,)) / '(1,)type'.\n",
      "  _np_quint8 = np.dtype([(\"quint8\", np.uint8, 1)])\n",
      "C:\\Users\\Sean\\Anaconda3\\envs\\tensorflow-gpu\\lib\\site-packages\\tensorflow\\python\\framework\\dtypes.py:518: FutureWarning: Passing (type, 1) or '1type' as a synonym of type is deprecated; in a future version of numpy, it will be understood as (type, (1,)) / '(1,)type'.\n",
      "  _np_qint16 = np.dtype([(\"qint16\", np.int16, 1)])\n",
      "C:\\Users\\Sean\\Anaconda3\\envs\\tensorflow-gpu\\lib\\site-packages\\tensorflow\\python\\framework\\dtypes.py:519: FutureWarning: Passing (type, 1) or '1type' as a synonym of type is deprecated; in a future version of numpy, it will be understood as (type, (1,)) / '(1,)type'.\n",
      "  _np_quint16 = np.dtype([(\"quint16\", np.uint16, 1)])\n",
      "C:\\Users\\Sean\\Anaconda3\\envs\\tensorflow-gpu\\lib\\site-packages\\tensorflow\\python\\framework\\dtypes.py:520: FutureWarning: Passing (type, 1) or '1type' as a synonym of type is deprecated; in a future version of numpy, it will be understood as (type, (1,)) / '(1,)type'.\n",
      "  _np_qint32 = np.dtype([(\"qint32\", np.int32, 1)])\n",
      "C:\\Users\\Sean\\Anaconda3\\envs\\tensorflow-gpu\\lib\\site-packages\\tensorflow\\python\\framework\\dtypes.py:525: FutureWarning: Passing (type, 1) or '1type' as a synonym of type is deprecated; in a future version of numpy, it will be understood as (type, (1,)) / '(1,)type'.\n",
      "  np_resource = np.dtype([(\"resource\", np.ubyte, 1)])\n",
      "C:\\Users\\Sean\\Anaconda3\\envs\\tensorflow-gpu\\lib\\site-packages\\tensorboard\\compat\\tensorflow_stub\\dtypes.py:541: FutureWarning: Passing (type, 1) or '1type' as a synonym of type is deprecated; in a future version of numpy, it will be understood as (type, (1,)) / '(1,)type'.\n",
      "  _np_qint8 = np.dtype([(\"qint8\", np.int8, 1)])\n",
      "C:\\Users\\Sean\\Anaconda3\\envs\\tensorflow-gpu\\lib\\site-packages\\tensorboard\\compat\\tensorflow_stub\\dtypes.py:542: FutureWarning: Passing (type, 1) or '1type' as a synonym of type is deprecated; in a future version of numpy, it will be understood as (type, (1,)) / '(1,)type'.\n",
      "  _np_quint8 = np.dtype([(\"quint8\", np.uint8, 1)])\n",
      "C:\\Users\\Sean\\Anaconda3\\envs\\tensorflow-gpu\\lib\\site-packages\\tensorboard\\compat\\tensorflow_stub\\dtypes.py:543: FutureWarning: Passing (type, 1) or '1type' as a synonym of type is deprecated; in a future version of numpy, it will be understood as (type, (1,)) / '(1,)type'.\n",
      "  _np_qint16 = np.dtype([(\"qint16\", np.int16, 1)])\n",
      "C:\\Users\\Sean\\Anaconda3\\envs\\tensorflow-gpu\\lib\\site-packages\\tensorboard\\compat\\tensorflow_stub\\dtypes.py:544: FutureWarning: Passing (type, 1) or '1type' as a synonym of type is deprecated; in a future version of numpy, it will be understood as (type, (1,)) / '(1,)type'.\n",
      "  _np_quint16 = np.dtype([(\"quint16\", np.uint16, 1)])\n",
      "C:\\Users\\Sean\\Anaconda3\\envs\\tensorflow-gpu\\lib\\site-packages\\tensorboard\\compat\\tensorflow_stub\\dtypes.py:545: FutureWarning: Passing (type, 1) or '1type' as a synonym of type is deprecated; in a future version of numpy, it will be understood as (type, (1,)) / '(1,)type'.\n",
      "  _np_qint32 = np.dtype([(\"qint32\", np.int32, 1)])\n",
      "C:\\Users\\Sean\\Anaconda3\\envs\\tensorflow-gpu\\lib\\site-packages\\tensorboard\\compat\\tensorflow_stub\\dtypes.py:550: FutureWarning: Passing (type, 1) or '1type' as a synonym of type is deprecated; in a future version of numpy, it will be understood as (type, (1,)) / '(1,)type'.\n",
      "  np_resource = np.dtype([(\"resource\", np.ubyte, 1)])\n"
     ]
    }
   ],
   "source": [
    "import os\n",
    "import keras\n",
    "from sklearn import preprocessing \n",
    "\n",
    "# 請嘗試設定 GPU：os.environ\n",
    "os.environ[\"CUDA_VISIBLE_DEVICES\"] = \"0\""
   ]
  },
  {
   "cell_type": "code",
   "execution_count": 2,
   "metadata": {},
   "outputs": [],
   "source": [
    "train, test = keras.datasets.cifar10.load_data()"
   ]
  },
  {
   "cell_type": "code",
   "execution_count": 3,
   "metadata": {},
   "outputs": [],
   "source": [
    "## 資料前處理\n",
    "def preproc_x(x):\n",
    "    # x = x / 255\n",
    "    min_max_scaler = preprocessing.MinMaxScaler(feature_range=(-1, 1))\n",
    "    x = min_max_scaler.fit_transform(x.reshape((len(x), -1)))\n",
    "    return x\n",
    "\n",
    "def preproc_y(y, num_classes=10):\n",
    "    if y.shape[-1] == 1:\n",
    "        y = keras.utils.to_categorical(y, num_classes)\n",
    "    return y"
   ]
  },
  {
   "cell_type": "code",
   "execution_count": 4,
   "metadata": {},
   "outputs": [
    {
     "name": "stderr",
     "output_type": "stream",
     "text": [
      "C:\\Users\\Sean\\Anaconda3\\envs\\tensorflow-gpu\\lib\\site-packages\\sklearn\\utils\\validation.py:590: DataConversionWarning: Data with input dtype uint8 was converted to float64 by MinMaxScaler.\n",
      "  warnings.warn(msg, DataConversionWarning)\n",
      "C:\\Users\\Sean\\Anaconda3\\envs\\tensorflow-gpu\\lib\\site-packages\\sklearn\\utils\\validation.py:590: DataConversionWarning: Data with input dtype uint8 was converted to float64 by MinMaxScaler.\n",
      "  warnings.warn(msg, DataConversionWarning)\n"
     ]
    }
   ],
   "source": [
    "\n",
    "x_train, y_train = train\n",
    "x_test, y_test = test\n",
    "\n",
    "# Preproc the inputs\n",
    "x_train = preproc_x(x_train)\n",
    "x_test = preproc_x(x_test)\n",
    "\n",
    "# Preprc the outputs\n",
    "y_train = preproc_y(y_train)\n",
    "y_test = preproc_y(y_test)"
   ]
  },
  {
   "cell_type": "code",
   "execution_count": 5,
   "metadata": {},
   "outputs": [
    {
     "name": "stdout",
     "output_type": "stream",
     "text": [
      "Model: \"model_1\"\n",
      "_________________________________________________________________\n",
      "Layer (type)                 Output Shape              Param #   \n",
      "=================================================================\n",
      "input_1 (InputLayer)         (None, 3072)              0         \n",
      "_________________________________________________________________\n",
      "hidden_layer1 (Dense)        (None, 512)               1573376   \n",
      "_________________________________________________________________\n",
      "hidden_layer2 (Dense)        (None, 256)               131328    \n",
      "_________________________________________________________________\n",
      "hidden_layer3 (Dense)        (None, 128)               32896     \n",
      "_________________________________________________________________\n",
      "hidden_layer4 (Dense)        (None, 64)                8256      \n",
      "_________________________________________________________________\n",
      "hidden_layer5 (Dense)        (None, 32)                2080      \n",
      "_________________________________________________________________\n",
      "hidden_layer6 (Dense)        (None, 16)                528       \n",
      "_________________________________________________________________\n",
      "hidden_layer7 (Dense)        (None, 8)                 136       \n",
      "_________________________________________________________________\n",
      "output (Dense)               (None, 10)                90        \n",
      "=================================================================\n",
      "Total params: 1,748,690\n",
      "Trainable params: 1,748,690\n",
      "Non-trainable params: 0\n",
      "_________________________________________________________________\n"
     ]
    }
   ],
   "source": [
    "\"\"\"Code Here\n",
    "建立你的神經網路\n",
    "\"\"\"\n",
    "def build_mlp(input_shape, output_units=10, num_neurons=[512, 256, 128, 64, 32, 16, 8]):\n",
    "    input_layer = keras.layers.Input(input_shape)\n",
    "    \n",
    "    for i, n_units in enumerate(num_neurons):\n",
    "        if i == 0:\n",
    "            x = keras.layers.Dense(units=n_units, activation=\"relu\", name=\"hidden_layer\"+str(i+1))(input_layer)\n",
    "        else:\n",
    "            x = keras.layers.Dense(units=n_units, activation=\"relu\", name=\"hidden_layer\"+str(i+1))(x)\n",
    "    \n",
    "    out = keras.layers.Dense(units=output_units, activation=\"softmax\", name=\"output\")(x)\n",
    "    \n",
    "    model = keras.models.Model(inputs=[input_layer], outputs=[out])\n",
    "    return model\n",
    "\n",
    "model = build_mlp(input_shape=x_train.shape[1:])\n",
    "model.summary()"
   ]
  },
  {
   "cell_type": "code",
   "execution_count": 6,
   "metadata": {},
   "outputs": [],
   "source": [
    "## 超參數設定\n",
    "LEARNING_RATE = 0.001\n",
    "EPOCHS = 100\n",
    "BATCH_SIZE = 256"
   ]
  },
  {
   "cell_type": "code",
   "execution_count": 7,
   "metadata": {},
   "outputs": [],
   "source": [
    "optimizer = keras.optimizers.Adam(lr=LEARNING_RATE)\n",
    "model.compile(loss=\"categorical_crossentropy\", metrics=[\"accuracy\"], optimizer=optimizer)"
   ]
  },
  {
   "cell_type": "code",
   "execution_count": 8,
   "metadata": {},
   "outputs": [
    {
     "name": "stdout",
     "output_type": "stream",
     "text": [
      "WARNING:tensorflow:From C:\\Users\\Sean\\Anaconda3\\envs\\tensorflow-gpu\\lib\\site-packages\\keras\\backend\\tensorflow_backend.py:422: The name tf.global_variables is deprecated. Please use tf.compat.v1.global_variables instead.\n",
      "\n",
      "Train on 50000 samples, validate on 10000 samples\n",
      "Epoch 1/100\n",
      "50000/50000 [==============================] - 4s 85us/step - loss: 2.0805 - accuracy: 0.2581 - val_loss: 1.8887 - val_accuracy: 0.3552\n",
      "Epoch 2/100\n",
      "50000/50000 [==============================] - 4s 77us/step - loss: 1.7482 - accuracy: 0.3896 - val_loss: 1.6245 - val_accuracy: 0.4347\n",
      "Epoch 3/100\n",
      "50000/50000 [==============================] - 4s 76us/step - loss: 1.5621 - accuracy: 0.4550 - val_loss: 1.5287 - val_accuracy: 0.4600\n",
      "Epoch 4/100\n",
      "50000/50000 [==============================] - 4s 76us/step - loss: 1.4445 - accuracy: 0.4938 - val_loss: 1.4760 - val_accuracy: 0.4868\n",
      "Epoch 5/100\n",
      "50000/50000 [==============================] - 4s 76us/step - loss: 1.3457 - accuracy: 0.5259 - val_loss: 1.4542 - val_accuracy: 0.4870\n",
      "Epoch 6/100\n",
      "50000/50000 [==============================] - 4s 76us/step - loss: 1.2648 - accuracy: 0.5509 - val_loss: 1.4277 - val_accuracy: 0.5074\n",
      "Epoch 7/100\n",
      "50000/50000 [==============================] - 4s 76us/step - loss: 1.1864 - accuracy: 0.5799 - val_loss: 1.3751 - val_accuracy: 0.5300\n",
      "Epoch 8/100\n",
      "50000/50000 [==============================] - 4s 76us/step - loss: 1.1108 - accuracy: 0.6058 - val_loss: 1.4063 - val_accuracy: 0.5243\n",
      "Epoch 9/100\n",
      "50000/50000 [==============================] - 4s 76us/step - loss: 1.0479 - accuracy: 0.6273 - val_loss: 1.4031 - val_accuracy: 0.5343\n",
      "Epoch 10/100\n",
      "50000/50000 [==============================] - 4s 76us/step - loss: 0.9823 - accuracy: 0.6498 - val_loss: 1.4421 - val_accuracy: 0.5356\n",
      "Epoch 11/100\n",
      "50000/50000 [==============================] - 4s 76us/step - loss: 0.9180 - accuracy: 0.6720 - val_loss: 1.4974 - val_accuracy: 0.5299\n",
      "Epoch 12/100\n",
      "50000/50000 [==============================] - 4s 76us/step - loss: 0.8617 - accuracy: 0.6918 - val_loss: 1.5046 - val_accuracy: 0.5372\n",
      "Epoch 13/100\n",
      "50000/50000 [==============================] - 4s 76us/step - loss: 0.7979 - accuracy: 0.7137 - val_loss: 1.5673 - val_accuracy: 0.5350\n",
      "Epoch 14/100\n",
      "50000/50000 [==============================] - 4s 76us/step - loss: 0.7363 - accuracy: 0.7372 - val_loss: 1.6265 - val_accuracy: 0.5252\n",
      "Epoch 15/100\n",
      "50000/50000 [==============================] - 4s 76us/step - loss: 0.6847 - accuracy: 0.7558 - val_loss: 1.6606 - val_accuracy: 0.5400\n",
      "Epoch 16/100\n",
      "50000/50000 [==============================] - 4s 76us/step - loss: 0.6404 - accuracy: 0.7691 - val_loss: 1.7295 - val_accuracy: 0.5307\n",
      "Epoch 17/100\n",
      "50000/50000 [==============================] - 4s 77us/step - loss: 0.5989 - accuracy: 0.7826 - val_loss: 1.7540 - val_accuracy: 0.5340\n",
      "Epoch 18/100\n",
      "50000/50000 [==============================] - 4s 78us/step - loss: 0.5450 - accuracy: 0.8032 - val_loss: 1.8420 - val_accuracy: 0.5358\n",
      "Epoch 19/100\n",
      "50000/50000 [==============================] - 4s 76us/step - loss: 0.5144 - accuracy: 0.8138 - val_loss: 2.0093 - val_accuracy: 0.5245\n",
      "Epoch 20/100\n",
      "50000/50000 [==============================] - 4s 77us/step - loss: 0.4761 - accuracy: 0.8289 - val_loss: 2.0391 - val_accuracy: 0.5236\n",
      "Epoch 21/100\n",
      "50000/50000 [==============================] - 4s 76us/step - loss: 0.4356 - accuracy: 0.8430 - val_loss: 2.1968 - val_accuracy: 0.5233\n",
      "Epoch 22/100\n",
      "50000/50000 [==============================] - 4s 77us/step - loss: 0.4138 - accuracy: 0.8501 - val_loss: 2.2939 - val_accuracy: 0.5244\n",
      "Epoch 23/100\n",
      "50000/50000 [==============================] - 4s 76us/step - loss: 0.3741 - accuracy: 0.8658 - val_loss: 2.3311 - val_accuracy: 0.5287\n",
      "Epoch 24/100\n",
      "50000/50000 [==============================] - 4s 76us/step - loss: 0.3507 - accuracy: 0.8732 - val_loss: 2.4111 - val_accuracy: 0.5310\n",
      "Epoch 25/100\n",
      "50000/50000 [==============================] - 4s 76us/step - loss: 0.3354 - accuracy: 0.8813 - val_loss: 2.5302 - val_accuracy: 0.5249\n",
      "Epoch 26/100\n",
      "50000/50000 [==============================] - 4s 76us/step - loss: 0.3201 - accuracy: 0.8862 - val_loss: 2.6063 - val_accuracy: 0.5264\n",
      "Epoch 27/100\n",
      "50000/50000 [==============================] - 4s 76us/step - loss: 0.2957 - accuracy: 0.8944 - val_loss: 2.8188 - val_accuracy: 0.5196\n",
      "Epoch 28/100\n",
      "50000/50000 [==============================] - 4s 76us/step - loss: 0.2760 - accuracy: 0.9031 - val_loss: 2.7703 - val_accuracy: 0.5203\n",
      "Epoch 29/100\n",
      "50000/50000 [==============================] - 4s 76us/step - loss: 0.2700 - accuracy: 0.9041 - val_loss: 2.8385 - val_accuracy: 0.5269\n",
      "Epoch 30/100\n",
      "50000/50000 [==============================] - 4s 77us/step - loss: 0.2646 - accuracy: 0.9074 - val_loss: 2.9308 - val_accuracy: 0.5234\n",
      "Epoch 31/100\n",
      "50000/50000 [==============================] - 4s 76us/step - loss: 0.2353 - accuracy: 0.9182 - val_loss: 2.9108 - val_accuracy: 0.5210\n",
      "Epoch 32/100\n",
      "50000/50000 [==============================] - 4s 76us/step - loss: 0.2259 - accuracy: 0.9209 - val_loss: 3.2341 - val_accuracy: 0.5235\n",
      "Epoch 33/100\n",
      "50000/50000 [==============================] - 4s 77us/step - loss: 0.2169 - accuracy: 0.9242 - val_loss: 3.1049 - val_accuracy: 0.5229\n",
      "Epoch 34/100\n",
      "50000/50000 [==============================] - 4s 76us/step - loss: 0.2050 - accuracy: 0.9293 - val_loss: 3.2419 - val_accuracy: 0.5262\n",
      "Epoch 35/100\n",
      "50000/50000 [==============================] - 4s 78us/step - loss: 0.1981 - accuracy: 0.9322 - val_loss: 3.3053 - val_accuracy: 0.5267\n",
      "Epoch 36/100\n",
      "50000/50000 [==============================] - 4s 76us/step - loss: 0.2089 - accuracy: 0.9290 - val_loss: 3.2650 - val_accuracy: 0.5205\n",
      "Epoch 37/100\n",
      "50000/50000 [==============================] - 4s 76us/step - loss: 0.1921 - accuracy: 0.9333 - val_loss: 3.4766 - val_accuracy: 0.5229\n",
      "Epoch 38/100\n",
      "50000/50000 [==============================] - 4s 76us/step - loss: 0.1765 - accuracy: 0.9386 - val_loss: 3.6078 - val_accuracy: 0.5259\n",
      "Epoch 39/100\n",
      "50000/50000 [==============================] - 4s 76us/step - loss: 0.1761 - accuracy: 0.9393 - val_loss: 3.3820 - val_accuracy: 0.5283\n",
      "Epoch 40/100\n",
      "50000/50000 [==============================] - 4s 75us/step - loss: 0.1759 - accuracy: 0.9406 - val_loss: 3.5019 - val_accuracy: 0.5160\n",
      "Epoch 41/100\n",
      "50000/50000 [==============================] - 4s 76us/step - loss: 0.1469 - accuracy: 0.9505 - val_loss: 3.7368 - val_accuracy: 0.5261\n",
      "Epoch 42/100\n",
      "50000/50000 [==============================] - 4s 75us/step - loss: 0.1464 - accuracy: 0.9494 - val_loss: 3.8450 - val_accuracy: 0.5195\n",
      "Epoch 43/100\n",
      "50000/50000 [==============================] - 4s 77us/step - loss: 0.1732 - accuracy: 0.9412 - val_loss: 3.5625 - val_accuracy: 0.5203\n",
      "Epoch 44/100\n",
      "50000/50000 [==============================] - 4s 76us/step - loss: 0.1632 - accuracy: 0.9451 - val_loss: 3.7081 - val_accuracy: 0.5257\n",
      "Epoch 45/100\n",
      "50000/50000 [==============================] - 4s 76us/step - loss: 0.1414 - accuracy: 0.9527 - val_loss: 3.8194 - val_accuracy: 0.5194\n",
      "Epoch 46/100\n",
      "50000/50000 [==============================] - 4s 76us/step - loss: 0.1501 - accuracy: 0.9501 - val_loss: 3.8215 - val_accuracy: 0.5317\n",
      "Epoch 47/100\n",
      "50000/50000 [==============================] - 4s 76us/step - loss: 0.1314 - accuracy: 0.9562 - val_loss: 3.7749 - val_accuracy: 0.5280\n",
      "Epoch 48/100\n",
      "50000/50000 [==============================] - 4s 76us/step - loss: 0.1349 - accuracy: 0.9546 - val_loss: 3.8986 - val_accuracy: 0.5218\n",
      "Epoch 49/100\n",
      "50000/50000 [==============================] - 4s 76us/step - loss: 0.1199 - accuracy: 0.9600 - val_loss: 4.0864 - val_accuracy: 0.5262\n",
      "Epoch 50/100\n",
      "50000/50000 [==============================] - 4s 76us/step - loss: 0.1256 - accuracy: 0.9588 - val_loss: 3.7831 - val_accuracy: 0.5303\n",
      "Epoch 51/100\n",
      "50000/50000 [==============================] - 4s 76us/step - loss: 0.1389 - accuracy: 0.9529 - val_loss: 3.8223 - val_accuracy: 0.5353\n",
      "Epoch 52/100\n",
      "50000/50000 [==============================] - 4s 76us/step - loss: 0.1185 - accuracy: 0.9607 - val_loss: 3.8483 - val_accuracy: 0.5303\n",
      "Epoch 53/100\n",
      "50000/50000 [==============================] - 4s 76us/step - loss: 0.1092 - accuracy: 0.9638 - val_loss: 3.9473 - val_accuracy: 0.5273\n",
      "Epoch 54/100\n",
      "50000/50000 [==============================] - 4s 75us/step - loss: 0.1166 - accuracy: 0.9610 - val_loss: 3.9809 - val_accuracy: 0.5228\n",
      "Epoch 55/100\n",
      "50000/50000 [==============================] - 4s 75us/step - loss: 0.1168 - accuracy: 0.9627 - val_loss: 4.0566 - val_accuracy: 0.5302\n",
      "Epoch 56/100\n",
      "50000/50000 [==============================] - 4s 76us/step - loss: 0.1265 - accuracy: 0.9578 - val_loss: 3.9110 - val_accuracy: 0.5229\n",
      "Epoch 57/100\n",
      "50000/50000 [==============================] - 4s 75us/step - loss: 0.0924 - accuracy: 0.9689 - val_loss: 4.1075 - val_accuracy: 0.5263\n",
      "Epoch 58/100\n",
      "50000/50000 [==============================] - 4s 75us/step - loss: 0.1217 - accuracy: 0.9598 - val_loss: 4.2042 - val_accuracy: 0.5270\n",
      "Epoch 59/100\n",
      "50000/50000 [==============================] - 4s 75us/step - loss: 0.1018 - accuracy: 0.9658 - val_loss: 4.1109 - val_accuracy: 0.5208\n",
      "Epoch 60/100\n",
      "50000/50000 [==============================] - 4s 76us/step - loss: 0.0929 - accuracy: 0.9702 - val_loss: 4.1696 - val_accuracy: 0.5238\n",
      "Epoch 61/100\n",
      "50000/50000 [==============================] - 4s 76us/step - loss: 0.1170 - accuracy: 0.9619 - val_loss: 4.1728 - val_accuracy: 0.5261\n",
      "Epoch 62/100\n",
      "50000/50000 [==============================] - 4s 76us/step - loss: 0.1116 - accuracy: 0.9639 - val_loss: 4.2152 - val_accuracy: 0.5201\n",
      "Epoch 63/100\n",
      "50000/50000 [==============================] - 4s 75us/step - loss: 0.0977 - accuracy: 0.9665 - val_loss: 4.1536 - val_accuracy: 0.5284\n",
      "Epoch 64/100\n",
      "50000/50000 [==============================] - 4s 77us/step - loss: 0.1098 - accuracy: 0.9637 - val_loss: 3.9276 - val_accuracy: 0.5294\n",
      "Epoch 65/100\n",
      "50000/50000 [==============================] - 4s 75us/step - loss: 0.0864 - accuracy: 0.9714 - val_loss: 4.3702 - val_accuracy: 0.5222\n",
      "Epoch 66/100\n",
      "50000/50000 [==============================] - 4s 76us/step - loss: 0.1204 - accuracy: 0.9609 - val_loss: 4.3231 - val_accuracy: 0.5238\n",
      "Epoch 67/100\n",
      "50000/50000 [==============================] - 4s 75us/step - loss: 0.0760 - accuracy: 0.9751 - val_loss: 4.3296 - val_accuracy: 0.5275\n",
      "Epoch 68/100\n",
      "50000/50000 [==============================] - 4s 76us/step - loss: 0.0781 - accuracy: 0.9745 - val_loss: 4.2906 - val_accuracy: 0.5201\n",
      "Epoch 69/100\n",
      "50000/50000 [==============================] - 4s 75us/step - loss: 0.1042 - accuracy: 0.9667 - val_loss: 4.2819 - val_accuracy: 0.5269\n",
      "Epoch 70/100\n",
      "50000/50000 [==============================] - 4s 75us/step - loss: 0.0781 - accuracy: 0.9743 - val_loss: 4.4080 - val_accuracy: 0.5270\n",
      "Epoch 71/100\n",
      "50000/50000 [==============================] - 4s 75us/step - loss: 0.0809 - accuracy: 0.9737 - val_loss: 4.3534 - val_accuracy: 0.5242\n",
      "Epoch 72/100\n",
      "50000/50000 [==============================] - 4s 76us/step - loss: 0.1196 - accuracy: 0.9619 - val_loss: 4.0771 - val_accuracy: 0.5275\n",
      "Epoch 73/100\n",
      "50000/50000 [==============================] - 4s 76us/step - loss: 0.0721 - accuracy: 0.9761 - val_loss: 4.3273 - val_accuracy: 0.5290\n",
      "Epoch 74/100\n",
      "50000/50000 [==============================] - 4s 76us/step - loss: 0.0954 - accuracy: 0.9688 - val_loss: 4.3167 - val_accuracy: 0.5331\n",
      "Epoch 75/100\n",
      "50000/50000 [==============================] - 4s 75us/step - loss: 0.0665 - accuracy: 0.9781 - val_loss: 4.5984 - val_accuracy: 0.5271\n",
      "Epoch 76/100\n",
      "50000/50000 [==============================] - 4s 76us/step - loss: 0.0928 - accuracy: 0.9701 - val_loss: 4.4092 - val_accuracy: 0.5288\n",
      "Epoch 77/100\n",
      "50000/50000 [==============================] - 4s 77us/step - loss: 0.0753 - accuracy: 0.9761 - val_loss: 4.5550 - val_accuracy: 0.5246\n",
      "Epoch 78/100\n",
      "50000/50000 [==============================] - 4s 76us/step - loss: 0.0864 - accuracy: 0.9723 - val_loss: 4.6364 - val_accuracy: 0.5240\n",
      "Epoch 79/100\n",
      "50000/50000 [==============================] - 4s 77us/step - loss: 0.0789 - accuracy: 0.9743 - val_loss: 4.4049 - val_accuracy: 0.5279\n",
      "Epoch 80/100\n",
      "50000/50000 [==============================] - 4s 76us/step - loss: 0.0936 - accuracy: 0.9698 - val_loss: 4.4385 - val_accuracy: 0.5243\n",
      "Epoch 81/100\n",
      "50000/50000 [==============================] - 4s 88us/step - loss: 0.0673 - accuracy: 0.9782 - val_loss: 4.4776 - val_accuracy: 0.5284\n",
      "Epoch 82/100\n",
      "50000/50000 [==============================] - 4s 81us/step - loss: 0.0738 - accuracy: 0.9761 - val_loss: 4.7661 - val_accuracy: 0.5233\n",
      "Epoch 83/100\n",
      "50000/50000 [==============================] - 5s 95us/step - loss: 0.0946 - accuracy: 0.9705 - val_loss: 4.4974 - val_accuracy: 0.5270\n",
      "Epoch 84/100\n",
      "50000/50000 [==============================] - 4s 79us/step - loss: 0.0768 - accuracy: 0.9752 - val_loss: 4.4211 - val_accuracy: 0.5230\n",
      "Epoch 85/100\n",
      "50000/50000 [==============================] - 4s 77us/step - loss: 0.0660 - accuracy: 0.9782 - val_loss: 4.5861 - val_accuracy: 0.5264\n",
      "Epoch 86/100\n",
      "50000/50000 [==============================] - 4s 78us/step - loss: 0.0915 - accuracy: 0.9711 - val_loss: 4.3918 - val_accuracy: 0.5272\n",
      "Epoch 87/100\n",
      "50000/50000 [==============================] - 4s 76us/step - loss: 0.0669 - accuracy: 0.9771 - val_loss: 4.4580 - val_accuracy: 0.5290\n",
      "Epoch 88/100\n",
      "50000/50000 [==============================] - 4s 79us/step - loss: 0.0714 - accuracy: 0.9763 - val_loss: 4.5568 - val_accuracy: 0.5255\n",
      "Epoch 89/100\n",
      "50000/50000 [==============================] - 4s 84us/step - loss: 0.0561 - accuracy: 0.9821 - val_loss: 4.7233 - val_accuracy: 0.5273\n",
      "Epoch 90/100\n",
      "50000/50000 [==============================] - 4s 87us/step - loss: 0.0587 - accuracy: 0.9811 - val_loss: 4.6185 - val_accuracy: 0.5233\n",
      "Epoch 91/100\n",
      "50000/50000 [==============================] - 4s 79us/step - loss: 0.0904 - accuracy: 0.9712 - val_loss: 4.4995 - val_accuracy: 0.5277\n",
      "Epoch 92/100\n",
      "50000/50000 [==============================] - 4s 78us/step - loss: 0.0770 - accuracy: 0.9760 - val_loss: 4.3946 - val_accuracy: 0.5271\n",
      "Epoch 93/100\n",
      "50000/50000 [==============================] - 4s 84us/step - loss: 0.0718 - accuracy: 0.9771 - val_loss: 4.5951 - val_accuracy: 0.5268\n",
      "Epoch 94/100\n",
      "50000/50000 [==============================] - 4s 84us/step - loss: 0.0623 - accuracy: 0.9797 - val_loss: 4.7797 - val_accuracy: 0.5224\n",
      "Epoch 95/100\n",
      "50000/50000 [==============================] - 4s 79us/step - loss: 0.0724 - accuracy: 0.9766 - val_loss: 4.6498 - val_accuracy: 0.5273\n",
      "Epoch 96/100\n",
      "50000/50000 [==============================] - 4s 79us/step - loss: 0.0648 - accuracy: 0.9797 - val_loss: 4.5627 - val_accuracy: 0.5270\n",
      "Epoch 97/100\n",
      "50000/50000 [==============================] - 4s 78us/step - loss: 0.0759 - accuracy: 0.9758 - val_loss: 4.6718 - val_accuracy: 0.5270\n",
      "Epoch 98/100\n",
      "50000/50000 [==============================] - 4s 78us/step - loss: 0.0641 - accuracy: 0.9797 - val_loss: 4.5946 - val_accuracy: 0.5283\n",
      "Epoch 99/100\n",
      "50000/50000 [==============================] - 4s 76us/step - loss: 0.0638 - accuracy: 0.9800 - val_loss: 4.6819 - val_accuracy: 0.5216\n",
      "Epoch 100/100\n",
      "50000/50000 [==============================] - 4s 76us/step - loss: 0.0672 - accuracy: 0.9791 - val_loss: 4.5401 - val_accuracy: 0.5313\n"
     ]
    },
    {
     "data": {
      "text/plain": [
       "<keras.callbacks.callbacks.History at 0x18bc8f28>"
      ]
     },
     "execution_count": 8,
     "metadata": {},
     "output_type": "execute_result"
    }
   ],
   "source": [
    "model.fit(x_train, y_train, \n",
    "          epochs=EPOCHS, \n",
    "          batch_size=BATCH_SIZE, \n",
    "          validation_data=(x_test, y_test), \n",
    "          shuffle=True)"
   ]
  },
  {
   "cell_type": "code",
   "execution_count": 10,
   "metadata": {},
   "outputs": [
    {
     "data": {
      "image/png": "[encoded data removed]",
      "text/plain": [
       "<Figure size 432x288 with 1 Axes>"
      ]
     },
     "metadata": {
      "needs_background": "light"
     },
     "output_type": "display_data"
    },
    {
     "data": {
      "image/png": "[encoded data removed]",
      "text/plain": [
       "<Figure size 432x288 with 1 Axes>"
      ]
     },
     "metadata": {
      "needs_background": "light"
     },
     "output_type": "display_data"
    }
   ],
   "source": [
    "import matplotlib.pyplot as plt\n",
    "\n",
    "\n",
    "train_loss = model.history.history[\"loss\"]\n",
    "valid_loss = model.history.history[\"val_loss\"]\n",
    "\n",
    "train_acc = model.history.history[\"accuracy\"]\n",
    "valid_acc = model.history.history[\"val_accuracy\"]\n",
    "\n",
    "plt.plot(range(len(train_loss)), train_loss, label=\"train loss\")\n",
    "plt.plot(range(len(valid_loss)), valid_loss, label=\"valid loss\")\n",
    "plt.legend()\n",
    "plt.title(\"Loss\")\n",
    "plt.show()\n",
    "\n",
    "plt.plot(range(len(train_acc)), train_acc, label=\"train accuracy\")\n",
    "plt.plot(range(len(valid_acc)), valid_acc, label=\"valid accuracy\")\n",
    "plt.legend()\n",
    "plt.title(\"Accuracy\")\n",
    "plt.show()"
   ]
  },
  {
   "cell_type": "code",
   "execution_count": null,
   "metadata": {},
   "outputs": [],
   "source": []
  }
 ],
 "metadata": {
  "kernelspec": {
   "display_name": "Python 3",
   "language": "python",
   "name": "python3"
  },
  "language_info": {
   "codemirror_mode": {
    "name": "ipython",
    "version": 3
   },
   "file_extension": ".py",
   "mimetype": "text/x-python",
   "name": "python",
   "nbconvert_exporter": "python",
   "pygments_lexer": "ipython3",
   "version": "3.5.6"
  }
 },
 "nbformat": 4,
 "nbformat_minor": 2
}
