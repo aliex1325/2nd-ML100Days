{
 "cells": [
  {
   "cell_type": "markdown",
   "metadata": {},
   "source": [
    "## [作業重點]\n",
    "清楚了解 L1, L2 的意義與差異為何，並了解 LASSO 與 Ridge 之間的差異與使用情境"
   ]
  },
  {
   "cell_type": "markdown",
   "metadata": {},
   "source": [
    "## 作業"
   ]
  },
  {
   "cell_type": "markdown",
   "metadata": {},
   "source": [
    "請閱讀相關文獻，並回答下列問題\n",
    "\n",
    "[脊回歸 (Ridge Regression)](https://blog.csdn.net/daunxx/article/details/51578787)\n",
    "[Linear, Ridge, Lasso Regression 本質區別](https://www.zhihu.com/question/38121173)\n",
    "\n",
    "1. LASSO 回歸可以被用來作為 Feature selection 的工具，請了解 LASSO 模型為什麼可用來作 Feature selection\n",
    "2. 當自變數 (X) 存在高度共線性時，Ridge Regression 可以處理這樣的問題嗎?\n"
   ]
  },
  {
   "cell_type": "markdown",
   "metadata": {},
   "source": [
    "\n",
    "Ans:\n",
    "1.因為LASSO模型對每個特徵的系統估了一個固定數值的懲罰,這個數值1/2 plpha,導致在懲罰的過程中\n",
    ",部份的feature的係數會變成零,因而可以把這些feature給取消掉。而Ridge模型則只對系數做了一個比例上的縮減\n",
    "因而即使在高強度的懲罰之下,係數只會變成很小的值,因而無法按系數來進行feature selection\n",
    "\n",
    "\n",
    "\n",
    "\n",
    "2.可以, 高共線性的自變數易造成w的數值非常的大, 而使得輸入變量x有一個微小變動(例如噪聲)輸出結果就會變成特別大\n",
    "  Ridge及Lasso的基本思想是限制參數w的增長,使w不會變的特別大,那麼模型對輸入w中的噪聲敏感度就會降低"
   ]
  },
  {
   "cell_type": "code",
   "execution_count": null,
   "metadata": {},
   "outputs": [],
   "source": []
  }
 ],
 "metadata": {
  "kernelspec": {
   "display_name": "Python 3",
   "language": "python",
   "name": "python3"
  },
  "language_info": {
   "codemirror_mode": {
    "name": "ipython",
    "version": 3
   },
   "file_extension": ".py",
   "mimetype": "text/x-python",
   "name": "python",
   "nbconvert_exporter": "python",
   "pygments_lexer": "ipython3",
   "version": "3.7.1"
  }
 },
 "nbformat": 4,
 "nbformat_minor": 2
}
